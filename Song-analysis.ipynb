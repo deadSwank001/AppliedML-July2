{
 "cells": [
  {
   "cell_type": "code",
   "execution_count": 87,
   "id": "b9d1cf66",
   "metadata": {
    "_cell_guid": "b1076dfc-b9ad-4769-8c92-a6c4dae69d19",
    "_uuid": "8f2839f25d086af736a60e9eeb907d3b93b6e0e5",
    "execution": {
     "iopub.execute_input": "2023-02-22T12:42:03.779924Z",
     "iopub.status.busy": "2023-02-22T12:42:03.779307Z",
     "iopub.status.idle": "2023-02-22T12:42:04.966279Z",
     "shell.execute_reply": "2023-02-22T12:42:04.964979Z"
    },
    "papermill": {
     "duration": 1.209912,
     "end_time": "2023-02-22T12:42:04.970142",
     "exception": false,
     "start_time": "2023-02-22T12:42:03.760230",
     "status": "completed"
    },
    "tags": []
   },
   "outputs": [
    {
     "data": {
      "text/plain": [
       "\"for dirname, _, filenames in os.walk('/kaggle/input'):\\n    for filename in filenames:\\n        print(os.path.join(dirname, filename))\""
      ]
     },
     "execution_count": 87,
     "metadata": {},
     "output_type": "execute_result"
    }
   ],
   "source": [
    "#7/18/23\n",
    "\n",
    "import numpy as np\n",
    "import pandas as pd\n",
    "from datetime import datetime as dt\n",
    "import seaborn as sns\n",
    "import matplotlib.pyplot as plt\n",
    "import scipy.stats as st\n",
    "\n",
    "\n",
    "\n",
    "import os\n",
    "'''for dirname, _, filenames in os.walk('/kaggle/input'):\n",
    "    for filename in filenames:\n",
    "        print(os.path.join(dirname, filename))'''\n",
    "\n"
   ]
  },
  {
   "cell_type": "markdown",
   "id": "3151de92",
   "metadata": {
    "papermill": {
     "duration": 0.015324,
     "end_time": "2023-02-22T12:42:05.002279",
     "exception": false,
     "start_time": "2023-02-22T12:42:04.986955",
     "status": "completed"
    },
    "tags": []
   },
   "source": [
    "Let's download our dataset and take a look at it."
   ]
  },
  {
   "cell_type": "code",
   "execution_count": 88,
   "id": "a8dd82d0",
   "metadata": {
    "execution": {
     "iopub.execute_input": "2023-02-22T12:42:05.034273Z",
     "iopub.status.busy": "2023-02-22T12:42:05.033827Z",
     "iopub.status.idle": "2023-02-22T12:42:05.105203Z",
     "shell.execute_reply": "2023-02-22T12:42:05.103709Z"
    },
    "papermill": {
     "duration": 0.090873,
     "end_time": "2023-02-22T12:42:05.108133",
     "exception": false,
     "start_time": "2023-02-22T12:42:05.017260",
     "status": "completed"
    },
    "tags": []
   },
   "outputs": [
    {
     "data": {
      "text/html": [
       "<div>\n",
       "<style scoped>\n",
       "    .dataframe tbody tr th:only-of-type {\n",
       "        vertical-align: middle;\n",
       "    }\n",
       "\n",
       "    .dataframe tbody tr th {\n",
       "        vertical-align: top;\n",
       "    }\n",
       "\n",
       "    .dataframe thead th {\n",
       "        text-align: right;\n",
       "    }\n",
       "</style>\n",
       "<table border=\"1\" class=\"dataframe\">\n",
       "  <thead>\n",
       "    <tr style=\"text-align: right;\">\n",
       "      <th></th>\n",
       "      <th>Unnamed: 0</th>\n",
       "      <th>name</th>\n",
       "      <th>album</th>\n",
       "      <th>release_date</th>\n",
       "      <th>track_number</th>\n",
       "      <th>id</th>\n",
       "      <th>uri</th>\n",
       "      <th>acousticness</th>\n",
       "      <th>danceability</th>\n",
       "      <th>energy</th>\n",
       "      <th>instrumentalness</th>\n",
       "      <th>liveness</th>\n",
       "      <th>loudness</th>\n",
       "      <th>speechiness</th>\n",
       "      <th>tempo</th>\n",
       "      <th>valence</th>\n",
       "      <th>popularity</th>\n",
       "      <th>duration_ms</th>\n",
       "    </tr>\n",
       "  </thead>\n",
       "  <tbody>\n",
       "    <tr>\n",
       "      <th>1605</th>\n",
       "      <td>1605</td>\n",
       "      <td>Carol</td>\n",
       "      <td>The Rolling Stones</td>\n",
       "      <td>4/16/1964</td>\n",
       "      <td>8</td>\n",
       "      <td>08l7M5UpRnffGl0FyuRiQZ</td>\n",
       "      <td>spotify:track:08l7M5UpRnffGl0FyuRiQZ</td>\n",
       "      <td>0.1570</td>\n",
       "      <td>0.466</td>\n",
       "      <td>0.932</td>\n",
       "      <td>0.006170</td>\n",
       "      <td>0.3240</td>\n",
       "      <td>-9.214</td>\n",
       "      <td>0.0429</td>\n",
       "      <td>177.340</td>\n",
       "      <td>0.967</td>\n",
       "      <td>39</td>\n",
       "      <td>154080</td>\n",
       "    </tr>\n",
       "    <tr>\n",
       "      <th>1606</th>\n",
       "      <td>1606</td>\n",
       "      <td>Tell Me</td>\n",
       "      <td>The Rolling Stones</td>\n",
       "      <td>4/16/1964</td>\n",
       "      <td>9</td>\n",
       "      <td>3JZllQBsTM6WwoJdzFDLhx</td>\n",
       "      <td>spotify:track:3JZllQBsTM6WwoJdzFDLhx</td>\n",
       "      <td>0.0576</td>\n",
       "      <td>0.509</td>\n",
       "      <td>0.706</td>\n",
       "      <td>0.000002</td>\n",
       "      <td>0.5160</td>\n",
       "      <td>-9.427</td>\n",
       "      <td>0.0843</td>\n",
       "      <td>122.015</td>\n",
       "      <td>0.446</td>\n",
       "      <td>36</td>\n",
       "      <td>245266</td>\n",
       "    </tr>\n",
       "    <tr>\n",
       "      <th>1607</th>\n",
       "      <td>1607</td>\n",
       "      <td>Can I Get A Witness</td>\n",
       "      <td>The Rolling Stones</td>\n",
       "      <td>4/16/1964</td>\n",
       "      <td>10</td>\n",
       "      <td>0t2qvfSBQ3Y08lzRRoVTdb</td>\n",
       "      <td>spotify:track:0t2qvfSBQ3Y08lzRRoVTdb</td>\n",
       "      <td>0.3710</td>\n",
       "      <td>0.790</td>\n",
       "      <td>0.774</td>\n",
       "      <td>0.000000</td>\n",
       "      <td>0.0669</td>\n",
       "      <td>-7.961</td>\n",
       "      <td>0.0720</td>\n",
       "      <td>97.035</td>\n",
       "      <td>0.835</td>\n",
       "      <td>30</td>\n",
       "      <td>176080</td>\n",
       "    </tr>\n",
       "    <tr>\n",
       "      <th>1608</th>\n",
       "      <td>1608</td>\n",
       "      <td>You Can Make It If You Try</td>\n",
       "      <td>The Rolling Stones</td>\n",
       "      <td>4/16/1964</td>\n",
       "      <td>11</td>\n",
       "      <td>5ivIs5vwSj0RChOIvlY3On</td>\n",
       "      <td>spotify:track:5ivIs5vwSj0RChOIvlY3On</td>\n",
       "      <td>0.2170</td>\n",
       "      <td>0.700</td>\n",
       "      <td>0.546</td>\n",
       "      <td>0.000070</td>\n",
       "      <td>0.1660</td>\n",
       "      <td>-9.567</td>\n",
       "      <td>0.0622</td>\n",
       "      <td>102.634</td>\n",
       "      <td>0.532</td>\n",
       "      <td>27</td>\n",
       "      <td>121680</td>\n",
       "    </tr>\n",
       "    <tr>\n",
       "      <th>1609</th>\n",
       "      <td>1609</td>\n",
       "      <td>Walking The Dog</td>\n",
       "      <td>The Rolling Stones</td>\n",
       "      <td>4/16/1964</td>\n",
       "      <td>12</td>\n",
       "      <td>43SkTJJ2xleDaeiE4TIM70</td>\n",
       "      <td>spotify:track:43SkTJJ2xleDaeiE4TIM70</td>\n",
       "      <td>0.3830</td>\n",
       "      <td>0.727</td>\n",
       "      <td>0.934</td>\n",
       "      <td>0.068500</td>\n",
       "      <td>0.0965</td>\n",
       "      <td>-8.373</td>\n",
       "      <td>0.0359</td>\n",
       "      <td>125.275</td>\n",
       "      <td>0.969</td>\n",
       "      <td>35</td>\n",
       "      <td>189186</td>\n",
       "    </tr>\n",
       "  </tbody>\n",
       "</table>\n",
       "</div>"
      ],
      "text/plain": [
       "      Unnamed: 0                        name               album release_date   \n",
       "1605        1605                       Carol  The Rolling Stones    4/16/1964  \\\n",
       "1606        1606                     Tell Me  The Rolling Stones    4/16/1964   \n",
       "1607        1607         Can I Get A Witness  The Rolling Stones    4/16/1964   \n",
       "1608        1608  You Can Make It If You Try  The Rolling Stones    4/16/1964   \n",
       "1609        1609             Walking The Dog  The Rolling Stones    4/16/1964   \n",
       "\n",
       "      track_number                      id   \n",
       "1605             8  08l7M5UpRnffGl0FyuRiQZ  \\\n",
       "1606             9  3JZllQBsTM6WwoJdzFDLhx   \n",
       "1607            10  0t2qvfSBQ3Y08lzRRoVTdb   \n",
       "1608            11  5ivIs5vwSj0RChOIvlY3On   \n",
       "1609            12  43SkTJJ2xleDaeiE4TIM70   \n",
       "\n",
       "                                       uri  acousticness  danceability   \n",
       "1605  spotify:track:08l7M5UpRnffGl0FyuRiQZ        0.1570         0.466  \\\n",
       "1606  spotify:track:3JZllQBsTM6WwoJdzFDLhx        0.0576         0.509   \n",
       "1607  spotify:track:0t2qvfSBQ3Y08lzRRoVTdb        0.3710         0.790   \n",
       "1608  spotify:track:5ivIs5vwSj0RChOIvlY3On        0.2170         0.700   \n",
       "1609  spotify:track:43SkTJJ2xleDaeiE4TIM70        0.3830         0.727   \n",
       "\n",
       "      energy  instrumentalness  liveness  loudness  speechiness    tempo   \n",
       "1605   0.932          0.006170    0.3240    -9.214       0.0429  177.340  \\\n",
       "1606   0.706          0.000002    0.5160    -9.427       0.0843  122.015   \n",
       "1607   0.774          0.000000    0.0669    -7.961       0.0720   97.035   \n",
       "1608   0.546          0.000070    0.1660    -9.567       0.0622  102.634   \n",
       "1609   0.934          0.068500    0.0965    -8.373       0.0359  125.275   \n",
       "\n",
       "      valence  popularity  duration_ms  \n",
       "1605    0.967          39       154080  \n",
       "1606    0.446          36       245266  \n",
       "1607    0.835          30       176080  \n",
       "1608    0.532          27       121680  \n",
       "1609    0.969          35       189186  "
      ]
     },
     "execution_count": 88,
     "metadata": {},
     "output_type": "execute_result"
    }
   ],
   "source": [
    "ds = pd.read_csv(r'C://Users//swank//Desktop//ML7-14//Song Classification//rolling_stones_spotify.csv')\n",
    "ds.head()\n",
    "ds.tail()"
   ]
  },
  {
   "cell_type": "markdown",
   "id": "ea3c52e9",
   "metadata": {
    "papermill": {
     "duration": 0.015488,
     "end_time": "2023-02-22T12:42:05.139057",
     "exception": false,
     "start_time": "2023-02-22T12:42:05.123569",
     "status": "completed"
    },
    "tags": []
   },
   "source": [
    "Data preprocessing."
   ]
  },
  {
   "cell_type": "code",
   "execution_count": 51,
   "id": "cca22789",
   "metadata": {
    "execution": {
     "iopub.execute_input": "2023-02-22T12:42:05.171621Z",
     "iopub.status.busy": "2023-02-22T12:42:05.171165Z",
     "iopub.status.idle": "2023-02-22T12:42:05.180821Z",
     "shell.execute_reply": "2023-02-22T12:42:05.179603Z"
    },
    "papermill": {
     "duration": 0.029161,
     "end_time": "2023-02-22T12:42:05.183415",
     "exception": false,
     "start_time": "2023-02-22T12:42:05.154254",
     "status": "completed"
    },
    "tags": []
   },
   "outputs": [
    {
     "data": {
      "text/plain": [
       "Unnamed: 0            int64\n",
       "name                 object\n",
       "album                object\n",
       "release_date         object\n",
       "track_number          int64\n",
       "id                   object\n",
       "uri                  object\n",
       "acousticness        float64\n",
       "danceability        float64\n",
       "energy              float64\n",
       "instrumentalness    float64\n",
       "liveness            float64\n",
       "loudness            float64\n",
       "speechiness         float64\n",
       "tempo               float64\n",
       "valence             float64\n",
       "popularity            int64\n",
       "duration_ms           int64\n",
       "dtype: object"
      ]
     },
     "execution_count": 51,
     "metadata": {},
     "output_type": "execute_result"
    }
   ],
   "source": [
    "ds.dtypes"
   ]
  },
  {
   "cell_type": "markdown",
   "id": "b0954683",
   "metadata": {
    "papermill": {
     "duration": 0.015078,
     "end_time": "2023-02-22T12:42:05.214397",
     "exception": false,
     "start_time": "2023-02-22T12:42:05.199319",
     "status": "completed"
    },
    "tags": []
   },
   "source": [
    "We see that release_date has the 'object' format. Let's change it to datetime."
   ]
  },
  {
   "cell_type": "code",
   "execution_count": 90,
   "id": "4a406053",
   "metadata": {
    "execution": {
     "iopub.execute_input": "2023-02-22T12:42:05.247494Z",
     "iopub.status.busy": "2023-02-22T12:42:05.246998Z",
     "iopub.status.idle": "2023-02-22T12:42:05.267948Z",
     "shell.execute_reply": "2023-02-22T12:42:05.266907Z"
    },
    "papermill": {
     "duration": 0.040832,
     "end_time": "2023-02-22T12:42:05.270663",
     "exception": false,
     "start_time": "2023-02-22T12:42:05.229831",
     "status": "completed"
    },
    "tags": []
   },
   "outputs": [],
   "source": [
    "ds['release_date'] = pd.to_datetime(ds['release_date'])\n",
    "#[Fixed]"
   ]
  },
  {
   "cell_type": "code",
   "execution_count": 53,
   "id": "319876f8",
   "metadata": {
    "execution": {
     "iopub.execute_input": "2023-02-22T12:42:05.304505Z",
     "iopub.status.busy": "2023-02-22T12:42:05.303627Z",
     "iopub.status.idle": "2023-02-22T12:42:05.360563Z",
     "shell.execute_reply": "2023-02-22T12:42:05.359435Z"
    },
    "papermill": {
     "duration": 0.07753,
     "end_time": "2023-02-22T12:42:05.363695",
     "exception": false,
     "start_time": "2023-02-22T12:42:05.286165",
     "status": "completed"
    },
    "tags": []
   },
   "outputs": [
    {
     "data": {
      "text/html": [
       "<div>\n",
       "<style scoped>\n",
       "    .dataframe tbody tr th:only-of-type {\n",
       "        vertical-align: middle;\n",
       "    }\n",
       "\n",
       "    .dataframe tbody tr th {\n",
       "        vertical-align: top;\n",
       "    }\n",
       "\n",
       "    .dataframe thead th {\n",
       "        text-align: right;\n",
       "    }\n",
       "</style>\n",
       "<table border=\"1\" class=\"dataframe\">\n",
       "  <thead>\n",
       "    <tr style=\"text-align: right;\">\n",
       "      <th></th>\n",
       "      <th>Unnamed: 0</th>\n",
       "      <th>release_date</th>\n",
       "      <th>track_number</th>\n",
       "      <th>acousticness</th>\n",
       "      <th>danceability</th>\n",
       "      <th>energy</th>\n",
       "      <th>instrumentalness</th>\n",
       "      <th>liveness</th>\n",
       "      <th>loudness</th>\n",
       "      <th>speechiness</th>\n",
       "      <th>tempo</th>\n",
       "      <th>valence</th>\n",
       "      <th>popularity</th>\n",
       "      <th>duration_ms</th>\n",
       "    </tr>\n",
       "  </thead>\n",
       "  <tbody>\n",
       "    <tr>\n",
       "      <th>count</th>\n",
       "      <td>1610.000000</td>\n",
       "      <td>1610</td>\n",
       "      <td>1610.000000</td>\n",
       "      <td>1610.000000</td>\n",
       "      <td>1610.000000</td>\n",
       "      <td>1610.000000</td>\n",
       "      <td>1610.000000</td>\n",
       "      <td>1610.00000</td>\n",
       "      <td>1610.000000</td>\n",
       "      <td>1610.000000</td>\n",
       "      <td>1610.000000</td>\n",
       "      <td>1610.000000</td>\n",
       "      <td>1610.000000</td>\n",
       "      <td>1610.000000</td>\n",
       "    </tr>\n",
       "    <tr>\n",
       "      <th>mean</th>\n",
       "      <td>804.500000</td>\n",
       "      <td>1992-04-23 12:57:14.534161536</td>\n",
       "      <td>8.613665</td>\n",
       "      <td>0.250475</td>\n",
       "      <td>0.468860</td>\n",
       "      <td>0.792352</td>\n",
       "      <td>0.164170</td>\n",
       "      <td>0.49173</td>\n",
       "      <td>-6.971615</td>\n",
       "      <td>0.069512</td>\n",
       "      <td>126.082033</td>\n",
       "      <td>0.582165</td>\n",
       "      <td>20.788199</td>\n",
       "      <td>257736.488199</td>\n",
       "    </tr>\n",
       "    <tr>\n",
       "      <th>min</th>\n",
       "      <td>0.000000</td>\n",
       "      <td>1964-04-16 00:00:00</td>\n",
       "      <td>1.000000</td>\n",
       "      <td>0.000009</td>\n",
       "      <td>0.104000</td>\n",
       "      <td>0.141000</td>\n",
       "      <td>0.000000</td>\n",
       "      <td>0.02190</td>\n",
       "      <td>-24.408000</td>\n",
       "      <td>0.023200</td>\n",
       "      <td>46.525000</td>\n",
       "      <td>0.000000</td>\n",
       "      <td>0.000000</td>\n",
       "      <td>21000.000000</td>\n",
       "    </tr>\n",
       "    <tr>\n",
       "      <th>25%</th>\n",
       "      <td>402.250000</td>\n",
       "      <td>1970-09-04 00:00:00</td>\n",
       "      <td>4.000000</td>\n",
       "      <td>0.058350</td>\n",
       "      <td>0.362250</td>\n",
       "      <td>0.674000</td>\n",
       "      <td>0.000219</td>\n",
       "      <td>0.15300</td>\n",
       "      <td>-8.982500</td>\n",
       "      <td>0.036500</td>\n",
       "      <td>107.390750</td>\n",
       "      <td>0.404250</td>\n",
       "      <td>13.000000</td>\n",
       "      <td>190613.000000</td>\n",
       "    </tr>\n",
       "    <tr>\n",
       "      <th>50%</th>\n",
       "      <td>804.500000</td>\n",
       "      <td>1986-03-24 00:00:00</td>\n",
       "      <td>7.000000</td>\n",
       "      <td>0.183000</td>\n",
       "      <td>0.458000</td>\n",
       "      <td>0.848500</td>\n",
       "      <td>0.013750</td>\n",
       "      <td>0.37950</td>\n",
       "      <td>-6.523000</td>\n",
       "      <td>0.051200</td>\n",
       "      <td>124.404500</td>\n",
       "      <td>0.583000</td>\n",
       "      <td>20.000000</td>\n",
       "      <td>243093.000000</td>\n",
       "    </tr>\n",
       "    <tr>\n",
       "      <th>75%</th>\n",
       "      <td>1206.750000</td>\n",
       "      <td>2017-12-01 00:00:00</td>\n",
       "      <td>11.000000</td>\n",
       "      <td>0.403750</td>\n",
       "      <td>0.578000</td>\n",
       "      <td>0.945000</td>\n",
       "      <td>0.179000</td>\n",
       "      <td>0.89375</td>\n",
       "      <td>-4.608750</td>\n",
       "      <td>0.086600</td>\n",
       "      <td>142.355750</td>\n",
       "      <td>0.778000</td>\n",
       "      <td>27.000000</td>\n",
       "      <td>295319.750000</td>\n",
       "    </tr>\n",
       "    <tr>\n",
       "      <th>max</th>\n",
       "      <td>1609.000000</td>\n",
       "      <td>2022-06-10 00:00:00</td>\n",
       "      <td>47.000000</td>\n",
       "      <td>0.994000</td>\n",
       "      <td>0.887000</td>\n",
       "      <td>0.999000</td>\n",
       "      <td>0.996000</td>\n",
       "      <td>0.99800</td>\n",
       "      <td>-1.014000</td>\n",
       "      <td>0.624000</td>\n",
       "      <td>216.304000</td>\n",
       "      <td>0.974000</td>\n",
       "      <td>80.000000</td>\n",
       "      <td>981866.000000</td>\n",
       "    </tr>\n",
       "    <tr>\n",
       "      <th>std</th>\n",
       "      <td>464.911282</td>\n",
       "      <td>NaN</td>\n",
       "      <td>6.560220</td>\n",
       "      <td>0.227397</td>\n",
       "      <td>0.141775</td>\n",
       "      <td>0.179886</td>\n",
       "      <td>0.276249</td>\n",
       "      <td>0.34910</td>\n",
       "      <td>2.994003</td>\n",
       "      <td>0.051631</td>\n",
       "      <td>29.233483</td>\n",
       "      <td>0.231253</td>\n",
       "      <td>12.426859</td>\n",
       "      <td>108333.474920</td>\n",
       "    </tr>\n",
       "  </tbody>\n",
       "</table>\n",
       "</div>"
      ],
      "text/plain": [
       "        Unnamed: 0                   release_date  track_number  acousticness   \n",
       "count  1610.000000                           1610   1610.000000   1610.000000  \\\n",
       "mean    804.500000  1992-04-23 12:57:14.534161536      8.613665      0.250475   \n",
       "min       0.000000            1964-04-16 00:00:00      1.000000      0.000009   \n",
       "25%     402.250000            1970-09-04 00:00:00      4.000000      0.058350   \n",
       "50%     804.500000            1986-03-24 00:00:00      7.000000      0.183000   \n",
       "75%    1206.750000            2017-12-01 00:00:00     11.000000      0.403750   \n",
       "max    1609.000000            2022-06-10 00:00:00     47.000000      0.994000   \n",
       "std     464.911282                            NaN      6.560220      0.227397   \n",
       "\n",
       "       danceability       energy  instrumentalness    liveness     loudness   \n",
       "count   1610.000000  1610.000000       1610.000000  1610.00000  1610.000000  \\\n",
       "mean       0.468860     0.792352          0.164170     0.49173    -6.971615   \n",
       "min        0.104000     0.141000          0.000000     0.02190   -24.408000   \n",
       "25%        0.362250     0.674000          0.000219     0.15300    -8.982500   \n",
       "50%        0.458000     0.848500          0.013750     0.37950    -6.523000   \n",
       "75%        0.578000     0.945000          0.179000     0.89375    -4.608750   \n",
       "max        0.887000     0.999000          0.996000     0.99800    -1.014000   \n",
       "std        0.141775     0.179886          0.276249     0.34910     2.994003   \n",
       "\n",
       "       speechiness        tempo      valence   popularity    duration_ms  \n",
       "count  1610.000000  1610.000000  1610.000000  1610.000000    1610.000000  \n",
       "mean      0.069512   126.082033     0.582165    20.788199  257736.488199  \n",
       "min       0.023200    46.525000     0.000000     0.000000   21000.000000  \n",
       "25%       0.036500   107.390750     0.404250    13.000000  190613.000000  \n",
       "50%       0.051200   124.404500     0.583000    20.000000  243093.000000  \n",
       "75%       0.086600   142.355750     0.778000    27.000000  295319.750000  \n",
       "max       0.624000   216.304000     0.974000    80.000000  981866.000000  \n",
       "std       0.051631    29.233483     0.231253    12.426859  108333.474920  "
      ]
     },
     "execution_count": 53,
     "metadata": {},
     "output_type": "execute_result"
    }
   ],
   "source": [
    "ds.describe()"
   ]
  },
  {
   "cell_type": "markdown",
   "id": "0582b638",
   "metadata": {
    "papermill": {
     "duration": 0.017192,
     "end_time": "2023-02-22T12:42:05.397598",
     "exception": false,
     "start_time": "2023-02-22T12:42:05.380406",
     "status": "completed"
    },
    "tags": []
   },
   "source": [
    "High energy, loudness, tempo"
   ]
  },
  {
   "cell_type": "markdown",
   "id": "c59b6001",
   "metadata": {
    "papermill": {
     "duration": 0.016225,
     "end_time": "2023-02-22T12:42:05.434171",
     "exception": false,
     "start_time": "2023-02-22T12:42:05.417946",
     "status": "completed"
    },
    "tags": []
   },
   "source": [
    "Is nulls-"
   ]
  },
  {
   "cell_type": "code",
   "execution_count": 91,
   "id": "13223d86",
   "metadata": {
    "execution": {
     "iopub.execute_input": "2023-02-22T12:42:05.470539Z",
     "iopub.status.busy": "2023-02-22T12:42:05.469682Z",
     "iopub.status.idle": "2023-02-22T12:42:05.480928Z",
     "shell.execute_reply": "2023-02-22T12:42:05.479597Z"
    },
    "papermill": {
     "duration": 0.033331,
     "end_time": "2023-02-22T12:42:05.484319",
     "exception": false,
     "start_time": "2023-02-22T12:42:05.450988",
     "status": "completed"
    },
    "tags": []
   },
   "outputs": [
    {
     "data": {
      "text/plain": [
       "Unnamed: 0          0\n",
       "name                0\n",
       "album               0\n",
       "release_date        0\n",
       "track_number        0\n",
       "id                  0\n",
       "uri                 0\n",
       "acousticness        0\n",
       "danceability        0\n",
       "energy              0\n",
       "instrumentalness    0\n",
       "liveness            0\n",
       "loudness            0\n",
       "speechiness         0\n",
       "tempo               0\n",
       "valence             0\n",
       "popularity          0\n",
       "duration_ms         0\n",
       "dtype: int64"
      ]
     },
     "execution_count": 91,
     "metadata": {},
     "output_type": "execute_result"
    }
   ],
   "source": [
    "ds.isna().sum()"
   ]
  },
  {
   "cell_type": "code",
   "execution_count": 92,
   "id": "0ed30e0c",
   "metadata": {
    "execution": {
     "iopub.execute_input": "2023-02-22T12:42:05.519430Z",
     "iopub.status.busy": "2023-02-22T12:42:05.518905Z",
     "iopub.status.idle": "2023-02-22T12:42:05.536639Z",
     "shell.execute_reply": "2023-02-22T12:42:05.535388Z"
    },
    "papermill": {
     "duration": 0.037899,
     "end_time": "2023-02-22T12:42:05.539347",
     "exception": false,
     "start_time": "2023-02-22T12:42:05.501448",
     "status": "completed"
    },
    "tags": []
   },
   "outputs": [
    {
     "data": {
      "text/plain": [
       "0"
      ]
     },
     "execution_count": 92,
     "metadata": {},
     "output_type": "execute_result"
    }
   ],
   "source": [
    "ds.duplicated().sum()\n",
    "#how many duplicates as an integer"
   ]
  },
  {
   "cell_type": "markdown",
   "id": "7df478b5",
   "metadata": {
    "papermill": {
     "duration": 0.016423,
     "end_time": "2023-02-22T12:42:05.571962",
     "exception": false,
     "start_time": "2023-02-22T12:42:05.555539",
     "status": "completed"
    },
    "tags": []
   },
   "source": [
    "Static Analysis"
   ]
  },
  {
   "cell_type": "code",
   "execution_count": 93,
   "id": "629a4096",
   "metadata": {
    "execution": {
     "iopub.execute_input": "2023-02-22T12:42:05.638629Z",
     "iopub.status.busy": "2023-02-22T12:42:05.638117Z",
     "iopub.status.idle": "2023-02-22T12:42:05.647241Z",
     "shell.execute_reply": "2023-02-22T12:42:05.645868Z"
    },
    "papermill": {
     "duration": 0.029537,
     "end_time": "2023-02-22T12:42:05.650007",
     "exception": false,
     "start_time": "2023-02-22T12:42:05.620470",
     "status": "completed"
    },
    "tags": []
   },
   "outputs": [
    {
     "data": {
      "text/plain": [
       "90"
      ]
     },
     "execution_count": 93,
     "metadata": {},
     "output_type": "execute_result"
    }
   ],
   "source": [
    "ds['album'].nunique()"
   ]
  },
  {
   "cell_type": "markdown",
   "id": "f709a6cb",
   "metadata": {
    "papermill": {
     "duration": 0.015993,
     "end_time": "2023-02-22T12:42:05.683228",
     "exception": false,
     "start_time": "2023-02-22T12:42:05.667235",
     "status": "completed"
    },
    "tags": []
   },
   "source": [
    "Duration in seconds for every track and year of release for every album."
   ]
  },
  {
   "cell_type": "code",
   "execution_count": 94,
   "id": "61a522fb",
   "metadata": {
    "execution": {
     "iopub.execute_input": "2023-02-22T12:42:05.719729Z",
     "iopub.status.busy": "2023-02-22T12:42:05.719263Z",
     "iopub.status.idle": "2023-02-22T12:42:05.750874Z",
     "shell.execute_reply": "2023-02-22T12:42:05.749419Z"
    },
    "papermill": {
     "duration": 0.054006,
     "end_time": "2023-02-22T12:42:05.754016",
     "exception": false,
     "start_time": "2023-02-22T12:42:05.700010",
     "status": "completed"
    },
    "tags": []
   },
   "outputs": [
    {
     "data": {
      "text/html": [
       "<div>\n",
       "<style scoped>\n",
       "    .dataframe tbody tr th:only-of-type {\n",
       "        vertical-align: middle;\n",
       "    }\n",
       "\n",
       "    .dataframe tbody tr th {\n",
       "        vertical-align: top;\n",
       "    }\n",
       "\n",
       "    .dataframe thead th {\n",
       "        text-align: right;\n",
       "    }\n",
       "</style>\n",
       "<table border=\"1\" class=\"dataframe\">\n",
       "  <thead>\n",
       "    <tr style=\"text-align: right;\">\n",
       "      <th></th>\n",
       "      <th>Unnamed: 0</th>\n",
       "      <th>name</th>\n",
       "      <th>album</th>\n",
       "      <th>release_date</th>\n",
       "      <th>track_number</th>\n",
       "      <th>id</th>\n",
       "      <th>uri</th>\n",
       "      <th>acousticness</th>\n",
       "      <th>danceability</th>\n",
       "      <th>energy</th>\n",
       "      <th>instrumentalness</th>\n",
       "      <th>liveness</th>\n",
       "      <th>loudness</th>\n",
       "      <th>speechiness</th>\n",
       "      <th>tempo</th>\n",
       "      <th>valence</th>\n",
       "      <th>popularity</th>\n",
       "      <th>duration_ms</th>\n",
       "      <th>duration_sec</th>\n",
       "      <th>release_year</th>\n",
       "    </tr>\n",
       "  </thead>\n",
       "  <tbody>\n",
       "    <tr>\n",
       "      <th>0</th>\n",
       "      <td>0</td>\n",
       "      <td>Concert Intro Music - Live</td>\n",
       "      <td>Licked Live In NYC</td>\n",
       "      <td>2022-06-10</td>\n",
       "      <td>1</td>\n",
       "      <td>2IEkywLJ4ykbhi1yRQvmsT</td>\n",
       "      <td>spotify:track:2IEkywLJ4ykbhi1yRQvmsT</td>\n",
       "      <td>0.0824</td>\n",
       "      <td>0.463</td>\n",
       "      <td>0.993</td>\n",
       "      <td>0.996000</td>\n",
       "      <td>0.932</td>\n",
       "      <td>-12.913</td>\n",
       "      <td>0.1100</td>\n",
       "      <td>118.001</td>\n",
       "      <td>0.0302</td>\n",
       "      <td>33</td>\n",
       "      <td>48640</td>\n",
       "      <td>48.640</td>\n",
       "      <td>2022</td>\n",
       "    </tr>\n",
       "    <tr>\n",
       "      <th>1</th>\n",
       "      <td>1</td>\n",
       "      <td>Street Fighting Man - Live</td>\n",
       "      <td>Licked Live In NYC</td>\n",
       "      <td>2022-06-10</td>\n",
       "      <td>2</td>\n",
       "      <td>6GVgVJBKkGJoRfarYRvGTU</td>\n",
       "      <td>spotify:track:6GVgVJBKkGJoRfarYRvGTU</td>\n",
       "      <td>0.4370</td>\n",
       "      <td>0.326</td>\n",
       "      <td>0.965</td>\n",
       "      <td>0.233000</td>\n",
       "      <td>0.961</td>\n",
       "      <td>-4.803</td>\n",
       "      <td>0.0759</td>\n",
       "      <td>131.455</td>\n",
       "      <td>0.3180</td>\n",
       "      <td>34</td>\n",
       "      <td>253173</td>\n",
       "      <td>253.173</td>\n",
       "      <td>2022</td>\n",
       "    </tr>\n",
       "    <tr>\n",
       "      <th>2</th>\n",
       "      <td>2</td>\n",
       "      <td>Start Me Up - Live</td>\n",
       "      <td>Licked Live In NYC</td>\n",
       "      <td>2022-06-10</td>\n",
       "      <td>3</td>\n",
       "      <td>1Lu761pZ0dBTGpzxaQoZNW</td>\n",
       "      <td>spotify:track:1Lu761pZ0dBTGpzxaQoZNW</td>\n",
       "      <td>0.4160</td>\n",
       "      <td>0.386</td>\n",
       "      <td>0.969</td>\n",
       "      <td>0.400000</td>\n",
       "      <td>0.956</td>\n",
       "      <td>-4.936</td>\n",
       "      <td>0.1150</td>\n",
       "      <td>130.066</td>\n",
       "      <td>0.3130</td>\n",
       "      <td>34</td>\n",
       "      <td>263160</td>\n",
       "      <td>263.160</td>\n",
       "      <td>2022</td>\n",
       "    </tr>\n",
       "    <tr>\n",
       "      <th>3</th>\n",
       "      <td>3</td>\n",
       "      <td>If You Can't Rock Me - Live</td>\n",
       "      <td>Licked Live In NYC</td>\n",
       "      <td>2022-06-10</td>\n",
       "      <td>4</td>\n",
       "      <td>1agTQzOTUnGNggyckEqiDH</td>\n",
       "      <td>spotify:track:1agTQzOTUnGNggyckEqiDH</td>\n",
       "      <td>0.5670</td>\n",
       "      <td>0.369</td>\n",
       "      <td>0.985</td>\n",
       "      <td>0.000107</td>\n",
       "      <td>0.895</td>\n",
       "      <td>-5.535</td>\n",
       "      <td>0.1930</td>\n",
       "      <td>132.994</td>\n",
       "      <td>0.1470</td>\n",
       "      <td>32</td>\n",
       "      <td>305880</td>\n",
       "      <td>305.880</td>\n",
       "      <td>2022</td>\n",
       "    </tr>\n",
       "    <tr>\n",
       "      <th>4</th>\n",
       "      <td>4</td>\n",
       "      <td>Donâ€™t Stop - Live</td>\n",
       "      <td>Licked Live In NYC</td>\n",
       "      <td>2022-06-10</td>\n",
       "      <td>5</td>\n",
       "      <td>7piGJR8YndQBQWVXv6KtQw</td>\n",
       "      <td>spotify:track:7piGJR8YndQBQWVXv6KtQw</td>\n",
       "      <td>0.4000</td>\n",
       "      <td>0.303</td>\n",
       "      <td>0.969</td>\n",
       "      <td>0.055900</td>\n",
       "      <td>0.966</td>\n",
       "      <td>-5.098</td>\n",
       "      <td>0.0930</td>\n",
       "      <td>130.533</td>\n",
       "      <td>0.2060</td>\n",
       "      <td>32</td>\n",
       "      <td>305106</td>\n",
       "      <td>305.106</td>\n",
       "      <td>2022</td>\n",
       "    </tr>\n",
       "  </tbody>\n",
       "</table>\n",
       "</div>"
      ],
      "text/plain": [
       "   Unnamed: 0                         name               album release_date   \n",
       "0           0   Concert Intro Music - Live  Licked Live In NYC   2022-06-10  \\\n",
       "1           1   Street Fighting Man - Live  Licked Live In NYC   2022-06-10   \n",
       "2           2           Start Me Up - Live  Licked Live In NYC   2022-06-10   \n",
       "3           3  If You Can't Rock Me - Live  Licked Live In NYC   2022-06-10   \n",
       "4           4          Donâ€™t Stop - Live  Licked Live In NYC   2022-06-10   \n",
       "\n",
       "   track_number                      id                                   uri   \n",
       "0             1  2IEkywLJ4ykbhi1yRQvmsT  spotify:track:2IEkywLJ4ykbhi1yRQvmsT  \\\n",
       "1             2  6GVgVJBKkGJoRfarYRvGTU  spotify:track:6GVgVJBKkGJoRfarYRvGTU   \n",
       "2             3  1Lu761pZ0dBTGpzxaQoZNW  spotify:track:1Lu761pZ0dBTGpzxaQoZNW   \n",
       "3             4  1agTQzOTUnGNggyckEqiDH  spotify:track:1agTQzOTUnGNggyckEqiDH   \n",
       "4             5  7piGJR8YndQBQWVXv6KtQw  spotify:track:7piGJR8YndQBQWVXv6KtQw   \n",
       "\n",
       "   acousticness  danceability  energy  instrumentalness  liveness  loudness   \n",
       "0        0.0824         0.463   0.993          0.996000     0.932   -12.913  \\\n",
       "1        0.4370         0.326   0.965          0.233000     0.961    -4.803   \n",
       "2        0.4160         0.386   0.969          0.400000     0.956    -4.936   \n",
       "3        0.5670         0.369   0.985          0.000107     0.895    -5.535   \n",
       "4        0.4000         0.303   0.969          0.055900     0.966    -5.098   \n",
       "\n",
       "   speechiness    tempo  valence  popularity  duration_ms  duration_sec   \n",
       "0       0.1100  118.001   0.0302          33        48640        48.640  \\\n",
       "1       0.0759  131.455   0.3180          34       253173       253.173   \n",
       "2       0.1150  130.066   0.3130          34       263160       263.160   \n",
       "3       0.1930  132.994   0.1470          32       305880       305.880   \n",
       "4       0.0930  130.533   0.2060          32       305106       305.106   \n",
       "\n",
       "   release_year  \n",
       "0          2022  \n",
       "1          2022  \n",
       "2          2022  \n",
       "3          2022  \n",
       "4          2022  "
      ]
     },
     "execution_count": 94,
     "metadata": {},
     "output_type": "execute_result"
    }
   ],
   "source": [
    "ds['duration_sec'] = ds['duration_ms'] / 1000.0\n",
    "ds['release_year'] = ds['release_date'].dt.year\n",
    "ds.head()"
   ]
  },
  {
   "cell_type": "code",
   "execution_count": 95,
   "id": "5dd82a3d",
   "metadata": {
    "execution": {
     "iopub.execute_input": "2023-02-22T12:42:05.788777Z",
     "iopub.status.busy": "2023-02-22T12:42:05.788291Z",
     "iopub.status.idle": "2023-02-22T12:42:05.815394Z",
     "shell.execute_reply": "2023-02-22T12:42:05.814345Z"
    },
    "papermill": {
     "duration": 0.047617,
     "end_time": "2023-02-22T12:42:05.817954",
     "exception": false,
     "start_time": "2023-02-22T12:42:05.770337",
     "status": "completed"
    },
    "tags": []
   },
   "outputs": [
    {
     "data": {
      "text/html": [
       "<div>\n",
       "<style scoped>\n",
       "    .dataframe tbody tr th:only-of-type {\n",
       "        vertical-align: middle;\n",
       "    }\n",
       "\n",
       "    .dataframe tbody tr th {\n",
       "        vertical-align: top;\n",
       "    }\n",
       "\n",
       "    .dataframe thead th {\n",
       "        text-align: right;\n",
       "    }\n",
       "</style>\n",
       "<table border=\"1\" class=\"dataframe\">\n",
       "  <thead>\n",
       "    <tr style=\"text-align: right;\">\n",
       "      <th></th>\n",
       "      <th>popularity</th>\n",
       "      <th>release_year</th>\n",
       "    </tr>\n",
       "    <tr>\n",
       "      <th>album</th>\n",
       "      <th></th>\n",
       "      <th></th>\n",
       "    </tr>\n",
       "  </thead>\n",
       "  <tbody>\n",
       "    <tr>\n",
       "      <th>Sticky Fingers (Remastered)</th>\n",
       "      <td>53.300000</td>\n",
       "      <td>1971</td>\n",
       "    </tr>\n",
       "    <tr>\n",
       "      <th>Some Girls</th>\n",
       "      <td>48.100000</td>\n",
       "      <td>1978</td>\n",
       "    </tr>\n",
       "    <tr>\n",
       "      <th>Tattoo You (2009 Re-Mastered)</th>\n",
       "      <td>46.454545</td>\n",
       "      <td>1981</td>\n",
       "    </tr>\n",
       "    <tr>\n",
       "      <th>Exile On Main Street (2010 Re-Mastered)</th>\n",
       "      <td>44.166667</td>\n",
       "      <td>1972</td>\n",
       "    </tr>\n",
       "    <tr>\n",
       "      <th>Beggars Banquet (50th Anniversary Edition)</th>\n",
       "      <td>43.700000</td>\n",
       "      <td>1968</td>\n",
       "    </tr>\n",
       "    <tr>\n",
       "      <th>...</th>\n",
       "      <td>...</td>\n",
       "      <td>...</td>\n",
       "    </tr>\n",
       "    <tr>\n",
       "      <th>On Air</th>\n",
       "      <td>3.722222</td>\n",
       "      <td>2017</td>\n",
       "    </tr>\n",
       "    <tr>\n",
       "      <th>Now!</th>\n",
       "      <td>3.666667</td>\n",
       "      <td>1965</td>\n",
       "    </tr>\n",
       "    <tr>\n",
       "      <th>Out Of Our Heads (UK Sequence)</th>\n",
       "      <td>2.583333</td>\n",
       "      <td>1965</td>\n",
       "    </tr>\n",
       "    <tr>\n",
       "      <th>Got Live if you want it!</th>\n",
       "      <td>0.666667</td>\n",
       "      <td>1966</td>\n",
       "    </tr>\n",
       "    <tr>\n",
       "      <th>England's Newest Hit Makers</th>\n",
       "      <td>0.583333</td>\n",
       "      <td>1964</td>\n",
       "    </tr>\n",
       "  </tbody>\n",
       "</table>\n",
       "<p>90 rows × 2 columns</p>\n",
       "</div>"
      ],
      "text/plain": [
       "                                            popularity  release_year\n",
       "album                                                               \n",
       "Sticky Fingers (Remastered)                  53.300000          1971\n",
       "Some Girls                                   48.100000          1978\n",
       "Tattoo You (2009 Re-Mastered)                46.454545          1981\n",
       "Exile On Main Street (2010 Re-Mastered)      44.166667          1972\n",
       "Beggars Banquet (50th Anniversary Edition)   43.700000          1968\n",
       "...                                                ...           ...\n",
       "On Air                                        3.722222          2017\n",
       "Now!                                          3.666667          1965\n",
       "Out Of Our Heads (UK Sequence)                2.583333          1965\n",
       "Got Live if you want it!                      0.666667          1966\n",
       "England's Newest Hit Makers                   0.583333          1964\n",
       "\n",
       "[90 rows x 2 columns]"
      ]
     },
     "execution_count": 95,
     "metadata": {},
     "output_type": "execute_result"
    }
   ],
   "source": [
    "ds.groupby('album').agg({'popularity': 'mean', \n",
    "                         'release_year': 'max'}).sort_values('popularity', ascending=False)"
   ]
  },
  {
   "cell_type": "markdown",
   "id": "5d1493b0",
   "metadata": {
    "papermill": {
     "duration": 0.016202,
     "end_time": "2023-02-22T12:42:05.851009",
     "exception": false,
     "start_time": "2023-02-22T12:42:05.834807",
     "status": "completed"
    },
    "tags": []
   },
   "source": [
    "Their 3 most popular albums are from the 70s."
   ]
  },
  {
   "cell_type": "markdown",
   "id": "f45aa29d",
   "metadata": {
    "papermill": {
     "duration": 0.016227,
     "end_time": "2023-02-22T12:42:05.883792",
     "exception": false,
     "start_time": "2023-02-22T12:42:05.867565",
     "status": "completed"
    },
    "tags": []
   },
   "source": [
    "check distribution"
   ]
  },
  {
   "cell_type": "code",
   "execution_count": 96,
   "id": "1bb5ca37",
   "metadata": {
    "execution": {
     "iopub.execute_input": "2023-02-22T12:42:05.920876Z",
     "iopub.status.busy": "2023-02-22T12:42:05.920122Z",
     "iopub.status.idle": "2023-02-22T12:42:06.337328Z",
     "shell.execute_reply": "2023-02-22T12:42:06.335169Z"
    },
    "papermill": {
     "duration": 0.439265,
     "end_time": "2023-02-22T12:42:06.340515",
     "exception": false,
     "start_time": "2023-02-22T12:42:05.901250",
     "status": "completed"
    },
    "tags": []
   },
   "outputs": [
    {
     "data": {
      "text/plain": [
       "Text(0.5, 1.0, 'Distribution of the duration of the songs')"
      ]
     },
     "execution_count": 96,
     "metadata": {},
     "output_type": "execute_result"
    },
    {
     "data": {
      "image/png": "[encoded data removed]",
      "text/plain": [
       "<Figure size 640x480 with 1 Axes>"
      ]
     },
     "metadata": {},
     "output_type": "display_data"
    }
   ],
   "source": [
    "sns.histplot(ds['duration_sec'])\n",
    "plt.title('Distribution of the duration of the songs')"
   ]
  },
  {
   "cell_type": "markdown",
   "id": "9870c27b",
   "metadata": {
    "papermill": {
     "duration": 0.017106,
     "end_time": "2023-02-22T12:42:06.376876",
     "exception": false,
     "start_time": "2023-02-22T12:42:06.359770",
     "status": "completed"
    },
    "tags": []
   },
   "source": [
    "live tracks go over 16 minutes"
   ]
  },
  {
   "cell_type": "code",
   "execution_count": 60,
   "id": "014fd025",
   "metadata": {
    "execution": {
     "iopub.execute_input": "2023-02-22T12:42:06.413634Z",
     "iopub.status.busy": "2023-02-22T12:42:06.413171Z",
     "iopub.status.idle": "2023-02-22T12:42:06.767393Z",
     "shell.execute_reply": "2023-02-22T12:42:06.766283Z"
    },
    "papermill": {
     "duration": 0.375684,
     "end_time": "2023-02-22T12:42:06.769831",
     "exception": false,
     "start_time": "2023-02-22T12:42:06.394147",
     "status": "completed"
    },
    "tags": []
   },
   "outputs": [
    {
     "data": {
      "text/plain": [
       "Text(0.5, 1.0, 'Distribution of the popularity of the songs')"
      ]
     },
     "execution_count": 60,
     "metadata": {},
     "output_type": "execute_result"
    },
    {
     "data": {
      "image/png": "[encoded data removed]",
      "text/plain": [
       "<Figure size 640x480 with 1 Axes>"
      ]
     },
     "metadata": {},
     "output_type": "display_data"
    }
   ],
   "source": [
    "sns.histplot(ds['popularity'])\n",
    "plt.title('Distribution of the popularity of the songs')"
   ]
  },
  {
   "cell_type": "markdown",
   "id": "48db73c7",
   "metadata": {
    "papermill": {
     "duration": 0.017698,
     "end_time": "2023-02-22T12:42:06.842811",
     "exception": false,
     "start_time": "2023-02-22T12:42:06.825113",
     "status": "completed"
    },
    "tags": []
   },
   "source": [
    "relation between characteristics:\n",
    "1) loudness and danceability  \n",
    "2) danceability and energy  \n",
    "3) danceability and tempo\n",
    "\n",
    "Scatter plot is used\n"
   ]
  },
  {
   "cell_type": "code",
   "execution_count": 61,
   "id": "a5fc9bed",
   "metadata": {
    "execution": {
     "iopub.execute_input": "2023-02-22T12:42:06.882531Z",
     "iopub.status.busy": "2023-02-22T12:42:06.880861Z",
     "iopub.status.idle": "2023-02-22T12:42:07.300879Z",
     "shell.execute_reply": "2023-02-22T12:42:07.299446Z"
    },
    "papermill": {
     "duration": 0.442994,
     "end_time": "2023-02-22T12:42:07.304070",
     "exception": false,
     "start_time": "2023-02-22T12:42:06.861076",
     "status": "completed"
    },
    "tags": []
   },
   "outputs": [
    {
     "data": {
      "text/plain": [
       "Text(0.5, 1.0, 'Relation between danceability and loudness')"
      ]
     },
     "execution_count": 61,
     "metadata": {},
     "output_type": "execute_result"
    },
    {
     "data": {
      "image/png": "[encoded data removed]",
      "text/plain": [
       "<Figure size 500x500 with 1 Axes>"
      ]
     },
     "metadata": {},
     "output_type": "display_data"
    }
   ],
   "source": [
    "sns.relplot(data = ds, x='loudness', y='danceability')\n",
    "plt.title('Relation between danceability and loudness')"
   ]
  },
  {
   "cell_type": "markdown",
   "id": "0078cbdb",
   "metadata": {
    "papermill": {
     "duration": 0.019481,
     "end_time": "2023-02-22T12:42:07.344473",
     "exception": false,
     "start_time": "2023-02-22T12:42:07.324992",
     "status": "completed"
    },
    "tags": []
   },
   "source": [
    "typically loudness equates to danceability"
   ]
  },
  {
   "cell_type": "code",
   "execution_count": 97,
   "id": "128d0c06",
   "metadata": {
    "execution": {
     "iopub.execute_input": "2023-02-22T12:42:07.387343Z",
     "iopub.status.busy": "2023-02-22T12:42:07.386129Z",
     "iopub.status.idle": "2023-02-22T12:42:07.783094Z",
     "shell.execute_reply": "2023-02-22T12:42:07.781261Z"
    },
    "papermill": {
     "duration": 0.421698,
     "end_time": "2023-02-22T12:42:07.786427",
     "exception": false,
     "start_time": "2023-02-22T12:42:07.364729",
     "status": "completed"
    },
    "tags": []
   },
   "outputs": [
    {
     "data": {
      "text/plain": [
       "Text(0.5, 1.0, 'Relation between danceability and energy')"
      ]
     },
     "execution_count": 97,
     "metadata": {},
     "output_type": "execute_result"
    },
    {
     "data": {
      "image/png": "[encoded data removed]",
      "text/plain": [
       "<Figure size 500x500 with 1 Axes>"
      ]
     },
     "metadata": {},
     "output_type": "display_data"
    }
   ],
   "source": [
    "sns.relplot(data = ds, x='energy', y='danceability')\n",
    "plt.title('Relation between danceability and energy')"
   ]
  },
  {
   "cell_type": "code",
   "execution_count": 63,
   "id": "bf9081db",
   "metadata": {
    "execution": {
     "iopub.execute_input": "2023-02-22T12:42:07.831258Z",
     "iopub.status.busy": "2023-02-22T12:42:07.830811Z",
     "iopub.status.idle": "2023-02-22T12:42:08.237177Z",
     "shell.execute_reply": "2023-02-22T12:42:08.235610Z"
    },
    "papermill": {
     "duration": 0.432143,
     "end_time": "2023-02-22T12:42:08.240215",
     "exception": false,
     "start_time": "2023-02-22T12:42:07.808072",
     "status": "completed"
    },
    "tags": []
   },
   "outputs": [
    {
     "data": {
      "text/plain": [
       "Text(0.5, 1.0, 'Relation between danceability and tempo')"
      ]
     },
     "execution_count": 63,
     "metadata": {},
     "output_type": "execute_result"
    },
    {
     "data": {
      "image/png": "[encoded data removed]",
      "text/plain": [
       "<Figure size 500x500 with 1 Axes>"
      ]
     },
     "metadata": {},
     "output_type": "display_data"
    }
   ],
   "source": [
    "sns.relplot(data = ds, x='tempo', y='danceability')\n",
    "plt.title('Relation between danceability and tempo')"
   ]
  },
  {
   "cell_type": "markdown",
   "id": "3b358b7b",
   "metadata": {
    "papermill": {
     "duration": 0.022078,
     "end_time": "2023-02-22T12:42:08.286428",
     "exception": false,
     "start_time": "2023-02-22T12:42:08.264350",
     "status": "completed"
    },
    "tags": []
   },
   "source": [
    "good danceability lies inside a consistent tempo range."
   ]
  },
  {
   "cell_type": "markdown",
   "id": "aba489e8",
   "metadata": {
    "papermill": {
     "duration": 0.022358,
     "end_time": "2023-02-22T12:42:08.331294",
     "exception": false,
     "start_time": "2023-02-22T12:42:08.308936",
     "status": "completed"
    },
    "tags": []
   },
   "source": [
    "pivot table with each row corresponding to an album and columns will be the summation of characteristics of songs in this album."
   ]
  },
  {
   "cell_type": "code",
   "execution_count": 98,
   "id": "f626acb5",
   "metadata": {
    "execution": {
     "iopub.execute_input": "2023-02-22T12:42:08.378637Z",
     "iopub.status.busy": "2023-02-22T12:42:08.378172Z",
     "iopub.status.idle": "2023-02-22T12:42:08.403973Z",
     "shell.execute_reply": "2023-02-22T12:42:08.402408Z"
    },
    "papermill": {
     "duration": 0.052347,
     "end_time": "2023-02-22T12:42:08.406420",
     "exception": false,
     "start_time": "2023-02-22T12:42:08.354073",
     "status": "completed"
    },
    "tags": []
   },
   "outputs": [
    {
     "data": {
      "text/html": [
       "<div>\n",
       "<style scoped>\n",
       "    .dataframe tbody tr th:only-of-type {\n",
       "        vertical-align: middle;\n",
       "    }\n",
       "\n",
       "    .dataframe tbody tr th {\n",
       "        vertical-align: top;\n",
       "    }\n",
       "\n",
       "    .dataframe thead th {\n",
       "        text-align: right;\n",
       "    }\n",
       "</style>\n",
       "<table border=\"1\" class=\"dataframe\">\n",
       "  <thead>\n",
       "    <tr style=\"text-align: right;\">\n",
       "      <th></th>\n",
       "      <th>acousticness</th>\n",
       "      <th>danceability</th>\n",
       "      <th>popularity</th>\n",
       "    </tr>\n",
       "    <tr>\n",
       "      <th>album</th>\n",
       "      <th></th>\n",
       "      <th></th>\n",
       "      <th></th>\n",
       "    </tr>\n",
       "  </thead>\n",
       "  <tbody>\n",
       "    <tr>\n",
       "      <th>12 X 5</th>\n",
       "      <td>2.44632</td>\n",
       "      <td>5.878</td>\n",
       "      <td>385</td>\n",
       "    </tr>\n",
       "    <tr>\n",
       "      <th>12 x 5</th>\n",
       "      <td>2.45365</td>\n",
       "      <td>6.046</td>\n",
       "      <td>60</td>\n",
       "    </tr>\n",
       "    <tr>\n",
       "      <th>A Bigger Bang (2009 Re-Mastered)</th>\n",
       "      <td>1.99520</td>\n",
       "      <td>8.874</td>\n",
       "      <td>433</td>\n",
       "    </tr>\n",
       "    <tr>\n",
       "      <th>A Bigger Bang (Live)</th>\n",
       "      <td>8.75800</td>\n",
       "      <td>7.353</td>\n",
       "      <td>400</td>\n",
       "    </tr>\n",
       "    <tr>\n",
       "      <th>Aftermath</th>\n",
       "      <td>2.99097</td>\n",
       "      <td>6.536</td>\n",
       "      <td>474</td>\n",
       "    </tr>\n",
       "  </tbody>\n",
       "</table>\n",
       "</div>"
      ],
      "text/plain": [
       "                                  acousticness  danceability  popularity\n",
       "album                                                                   \n",
       "12 X 5                                 2.44632         5.878         385\n",
       "12 x 5                                 2.45365         6.046          60\n",
       "A Bigger Bang (2009 Re-Mastered)       1.99520         8.874         433\n",
       "A Bigger Bang (Live)                   8.75800         7.353         400\n",
       "Aftermath                              2.99097         6.536         474"
      ]
     },
     "execution_count": 98,
     "metadata": {},
     "output_type": "execute_result"
    }
   ],
   "source": [
    "albums_pivot = pd.pivot_table(data=ds, values=['popularity', 'danceability', 'acousticness'], index='album', aggfunc='sum')\n",
    "albums_pivot.head()"
   ]
  },
  {
   "cell_type": "markdown",
   "id": "c50d963b",
   "metadata": {
    "papermill": {
     "duration": 0.022694,
     "end_time": "2023-02-22T12:42:08.452454",
     "exception": false,
     "start_time": "2023-02-22T12:42:08.429760",
     "status": "completed"
    },
    "tags": []
   },
   "source": [
    "year of release by album"
   ]
  },
  {
   "cell_type": "code",
   "execution_count": 99,
   "id": "dfac0b52",
   "metadata": {
    "execution": {
     "iopub.execute_input": "2023-02-22T12:42:08.500406Z",
     "iopub.status.busy": "2023-02-22T12:42:08.499925Z",
     "iopub.status.idle": "2023-02-22T12:42:08.527523Z",
     "shell.execute_reply": "2023-02-22T12:42:08.526078Z"
    },
    "papermill": {
     "duration": 0.054513,
     "end_time": "2023-02-22T12:42:08.530059",
     "exception": false,
     "start_time": "2023-02-22T12:42:08.475546",
     "status": "completed"
    },
    "tags": []
   },
   "outputs": [
    {
     "data": {
      "text/html": [
       "<div>\n",
       "<style scoped>\n",
       "    .dataframe tbody tr th:only-of-type {\n",
       "        vertical-align: middle;\n",
       "    }\n",
       "\n",
       "    .dataframe tbody tr th {\n",
       "        vertical-align: top;\n",
       "    }\n",
       "\n",
       "    .dataframe thead th {\n",
       "        text-align: right;\n",
       "    }\n",
       "</style>\n",
       "<table border=\"1\" class=\"dataframe\">\n",
       "  <thead>\n",
       "    <tr style=\"text-align: right;\">\n",
       "      <th></th>\n",
       "      <th>acousticness</th>\n",
       "      <th>danceability</th>\n",
       "      <th>popularity</th>\n",
       "      <th>release_year</th>\n",
       "    </tr>\n",
       "    <tr>\n",
       "      <th>album</th>\n",
       "      <th></th>\n",
       "      <th></th>\n",
       "      <th></th>\n",
       "      <th></th>\n",
       "    </tr>\n",
       "  </thead>\n",
       "  <tbody>\n",
       "    <tr>\n",
       "      <th>12 X 5</th>\n",
       "      <td>2.44632</td>\n",
       "      <td>5.878</td>\n",
       "      <td>385</td>\n",
       "      <td>1964</td>\n",
       "    </tr>\n",
       "    <tr>\n",
       "      <th>12 x 5</th>\n",
       "      <td>2.45365</td>\n",
       "      <td>6.046</td>\n",
       "      <td>60</td>\n",
       "      <td>1964</td>\n",
       "    </tr>\n",
       "    <tr>\n",
       "      <th>A Bigger Bang (2009 Re-Mastered)</th>\n",
       "      <td>1.99520</td>\n",
       "      <td>8.874</td>\n",
       "      <td>433</td>\n",
       "      <td>2005</td>\n",
       "    </tr>\n",
       "    <tr>\n",
       "      <th>A Bigger Bang (Live)</th>\n",
       "      <td>8.75800</td>\n",
       "      <td>7.353</td>\n",
       "      <td>400</td>\n",
       "      <td>2021</td>\n",
       "    </tr>\n",
       "    <tr>\n",
       "      <th>Aftermath</th>\n",
       "      <td>2.99097</td>\n",
       "      <td>6.536</td>\n",
       "      <td>474</td>\n",
       "      <td>1966</td>\n",
       "    </tr>\n",
       "  </tbody>\n",
       "</table>\n",
       "</div>"
      ],
      "text/plain": [
       "                                  acousticness  danceability  popularity   \n",
       "album                                                                      \n",
       "12 X 5                                 2.44632         5.878         385  \\\n",
       "12 x 5                                 2.45365         6.046          60   \n",
       "A Bigger Bang (2009 Re-Mastered)       1.99520         8.874         433   \n",
       "A Bigger Bang (Live)                   8.75800         7.353         400   \n",
       "Aftermath                              2.99097         6.536         474   \n",
       "\n",
       "                                  release_year  \n",
       "album                                           \n",
       "12 X 5                                    1964  \n",
       "12 x 5                                    1964  \n",
       "A Bigger Bang (2009 Re-Mastered)          2005  \n",
       "A Bigger Bang (Live)                      2021  \n",
       "Aftermath                                 1966  "
      ]
     },
     "execution_count": 99,
     "metadata": {},
     "output_type": "execute_result"
    }
   ],
   "source": [
    "albums_pivot = albums_pivot.merge(ds.groupby('album')['release_year'].max(), on='album', how='left')\n",
    "albums_pivot.head()\n"
   ]
  },
  {
   "cell_type": "markdown",
   "id": "d0d531b4",
   "metadata": {
    "papermill": {
     "duration": 0.023705,
     "end_time": "2023-02-22T12:42:08.577797",
     "exception": false,
     "start_time": "2023-02-22T12:42:08.554092",
     "status": "completed"
    },
    "tags": []
   },
   "source": [
    "Then we can see what album was the most acoustic, danceable or popular."
   ]
  },
  {
   "cell_type": "code",
   "execution_count": 100,
   "id": "5c05d415",
   "metadata": {
    "execution": {
     "iopub.execute_input": "2023-02-22T12:42:08.628426Z",
     "iopub.status.busy": "2023-02-22T12:42:08.627970Z",
     "iopub.status.idle": "2023-02-22T12:42:08.659023Z",
     "shell.execute_reply": "2023-02-22T12:42:08.657765Z"
    },
    "papermill": {
     "duration": 0.05998,
     "end_time": "2023-02-22T12:42:08.661724",
     "exception": false,
     "start_time": "2023-02-22T12:42:08.601744",
     "status": "completed"
    },
    "tags": []
   },
   "outputs": [
    {
     "data": {
      "text/html": [
       "<div>\n",
       "<style scoped>\n",
       "    .dataframe tbody tr th:only-of-type {\n",
       "        vertical-align: middle;\n",
       "    }\n",
       "\n",
       "    .dataframe tbody tr th {\n",
       "        vertical-align: top;\n",
       "    }\n",
       "\n",
       "    .dataframe thead th {\n",
       "        text-align: right;\n",
       "    }\n",
       "</style>\n",
       "<table border=\"1\" class=\"dataframe\">\n",
       "  <thead>\n",
       "    <tr style=\"text-align: right;\">\n",
       "      <th></th>\n",
       "      <th>acousticness</th>\n",
       "      <th>danceability</th>\n",
       "      <th>popularity</th>\n",
       "      <th>release_year</th>\n",
       "    </tr>\n",
       "    <tr>\n",
       "      <th>album</th>\n",
       "      <th></th>\n",
       "      <th></th>\n",
       "      <th></th>\n",
       "      <th></th>\n",
       "    </tr>\n",
       "  </thead>\n",
       "  <tbody>\n",
       "    <tr>\n",
       "      <th>Honk (Deluxe)</th>\n",
       "      <td>9.671574</td>\n",
       "      <td>25.707</td>\n",
       "      <td>1232</td>\n",
       "      <td>2019</td>\n",
       "    </tr>\n",
       "    <tr>\n",
       "      <th>Tattoo You (Super Deluxe)</th>\n",
       "      <td>11.012900</td>\n",
       "      <td>20.050</td>\n",
       "      <td>1008</td>\n",
       "      <td>2021</td>\n",
       "    </tr>\n",
       "    <tr>\n",
       "      <th>Goats Head Soup (Deluxe)</th>\n",
       "      <td>6.662140</td>\n",
       "      <td>15.797</td>\n",
       "      <td>891</td>\n",
       "      <td>2020</td>\n",
       "    </tr>\n",
       "    <tr>\n",
       "      <th>Some Girls (Deluxe Version)</th>\n",
       "      <td>13.816200</td>\n",
       "      <td>25.106</td>\n",
       "      <td>852</td>\n",
       "      <td>1978</td>\n",
       "    </tr>\n",
       "    <tr>\n",
       "      <th>Exile On Main Street (Deluxe Version)</th>\n",
       "      <td>11.502060</td>\n",
       "      <td>12.521</td>\n",
       "      <td>839</td>\n",
       "      <td>1972</td>\n",
       "    </tr>\n",
       "  </tbody>\n",
       "</table>\n",
       "</div>"
      ],
      "text/plain": [
       "                                       acousticness  danceability  popularity   \n",
       "album                                                                           \n",
       "Honk (Deluxe)                              9.671574        25.707        1232  \\\n",
       "Tattoo You (Super Deluxe)                 11.012900        20.050        1008   \n",
       "Goats Head Soup (Deluxe)                   6.662140        15.797         891   \n",
       "Some Girls (Deluxe Version)               13.816200        25.106         852   \n",
       "Exile On Main Street (Deluxe Version)     11.502060        12.521         839   \n",
       "\n",
       "                                       release_year  \n",
       "album                                                \n",
       "Honk (Deluxe)                                  2019  \n",
       "Tattoo You (Super Deluxe)                      2021  \n",
       "Goats Head Soup (Deluxe)                       2020  \n",
       "Some Girls (Deluxe Version)                    1978  \n",
       "Exile On Main Street (Deluxe Version)          1972  "
      ]
     },
     "metadata": {},
     "output_type": "display_data"
    },
    {
     "data": {
      "text/html": [
       "<div>\n",
       "<style scoped>\n",
       "    .dataframe tbody tr th:only-of-type {\n",
       "        vertical-align: middle;\n",
       "    }\n",
       "\n",
       "    .dataframe tbody tr th {\n",
       "        vertical-align: top;\n",
       "    }\n",
       "\n",
       "    .dataframe thead th {\n",
       "        text-align: right;\n",
       "    }\n",
       "</style>\n",
       "<table border=\"1\" class=\"dataframe\">\n",
       "  <thead>\n",
       "    <tr style=\"text-align: right;\">\n",
       "      <th></th>\n",
       "      <th>acousticness</th>\n",
       "      <th>danceability</th>\n",
       "      <th>popularity</th>\n",
       "      <th>release_year</th>\n",
       "    </tr>\n",
       "    <tr>\n",
       "      <th>album</th>\n",
       "      <th></th>\n",
       "      <th></th>\n",
       "      <th></th>\n",
       "      <th></th>\n",
       "    </tr>\n",
       "  </thead>\n",
       "  <tbody>\n",
       "    <tr>\n",
       "      <th>Voodoo Lounge Uncut (Live)</th>\n",
       "      <td>16.43080</td>\n",
       "      <td>23.296</td>\n",
       "      <td>654</td>\n",
       "      <td>2018</td>\n",
       "    </tr>\n",
       "    <tr>\n",
       "      <th>Some Girls (Deluxe Version)</th>\n",
       "      <td>13.81620</td>\n",
       "      <td>25.106</td>\n",
       "      <td>852</td>\n",
       "      <td>1978</td>\n",
       "    </tr>\n",
       "    <tr>\n",
       "      <th>Exile On Main Street (Bonus Track Version)</th>\n",
       "      <td>11.50413</td>\n",
       "      <td>12.887</td>\n",
       "      <td>154</td>\n",
       "      <td>1972</td>\n",
       "    </tr>\n",
       "    <tr>\n",
       "      <th>Exile On Main Street (Deluxe Version)</th>\n",
       "      <td>11.50206</td>\n",
       "      <td>12.521</td>\n",
       "      <td>839</td>\n",
       "      <td>1972</td>\n",
       "    </tr>\n",
       "    <tr>\n",
       "      <th>Tattoo You (Super Deluxe)</th>\n",
       "      <td>11.01290</td>\n",
       "      <td>20.050</td>\n",
       "      <td>1008</td>\n",
       "      <td>2021</td>\n",
       "    </tr>\n",
       "  </tbody>\n",
       "</table>\n",
       "</div>"
      ],
      "text/plain": [
       "                                            acousticness  danceability   \n",
       "album                                                                    \n",
       "Voodoo Lounge Uncut (Live)                      16.43080        23.296  \\\n",
       "Some Girls (Deluxe Version)                     13.81620        25.106   \n",
       "Exile On Main Street (Bonus Track Version)      11.50413        12.887   \n",
       "Exile On Main Street (Deluxe Version)           11.50206        12.521   \n",
       "Tattoo You (Super Deluxe)                       11.01290        20.050   \n",
       "\n",
       "                                            popularity  release_year  \n",
       "album                                                                 \n",
       "Voodoo Lounge Uncut (Live)                         654          2018  \n",
       "Some Girls (Deluxe Version)                        852          1978  \n",
       "Exile On Main Street (Bonus Track Version)         154          1972  \n",
       "Exile On Main Street (Deluxe Version)              839          1972  \n",
       "Tattoo You (Super Deluxe)                         1008          2021  "
      ]
     },
     "metadata": {},
     "output_type": "display_data"
    },
    {
     "data": {
      "text/html": [
       "<div>\n",
       "<style scoped>\n",
       "    .dataframe tbody tr th:only-of-type {\n",
       "        vertical-align: middle;\n",
       "    }\n",
       "\n",
       "    .dataframe tbody tr th {\n",
       "        vertical-align: top;\n",
       "    }\n",
       "\n",
       "    .dataframe thead th {\n",
       "        text-align: right;\n",
       "    }\n",
       "</style>\n",
       "<table border=\"1\" class=\"dataframe\">\n",
       "  <thead>\n",
       "    <tr style=\"text-align: right;\">\n",
       "      <th></th>\n",
       "      <th>acousticness</th>\n",
       "      <th>danceability</th>\n",
       "      <th>popularity</th>\n",
       "      <th>release_year</th>\n",
       "    </tr>\n",
       "    <tr>\n",
       "      <th>album</th>\n",
       "      <th></th>\n",
       "      <th></th>\n",
       "      <th></th>\n",
       "      <th></th>\n",
       "    </tr>\n",
       "  </thead>\n",
       "  <tbody>\n",
       "    <tr>\n",
       "      <th>Honk (Deluxe)</th>\n",
       "      <td>9.671574</td>\n",
       "      <td>25.707</td>\n",
       "      <td>1232</td>\n",
       "      <td>2019</td>\n",
       "    </tr>\n",
       "    <tr>\n",
       "      <th>Some Girls (Deluxe Version)</th>\n",
       "      <td>13.816200</td>\n",
       "      <td>25.106</td>\n",
       "      <td>852</td>\n",
       "      <td>1978</td>\n",
       "    </tr>\n",
       "    <tr>\n",
       "      <th>Voodoo Lounge Uncut (Live)</th>\n",
       "      <td>16.430800</td>\n",
       "      <td>23.296</td>\n",
       "      <td>654</td>\n",
       "      <td>2018</td>\n",
       "    </tr>\n",
       "    <tr>\n",
       "      <th>Tattoo You (Super Deluxe)</th>\n",
       "      <td>11.012900</td>\n",
       "      <td>20.050</td>\n",
       "      <td>1008</td>\n",
       "      <td>2021</td>\n",
       "    </tr>\n",
       "    <tr>\n",
       "      <th>On Air (Deluxe)</th>\n",
       "      <td>5.280310</td>\n",
       "      <td>17.024</td>\n",
       "      <td>573</td>\n",
       "      <td>2017</td>\n",
       "    </tr>\n",
       "  </tbody>\n",
       "</table>\n",
       "</div>"
      ],
      "text/plain": [
       "                             acousticness  danceability  popularity   \n",
       "album                                                                 \n",
       "Honk (Deluxe)                    9.671574        25.707        1232  \\\n",
       "Some Girls (Deluxe Version)     13.816200        25.106         852   \n",
       "Voodoo Lounge Uncut (Live)      16.430800        23.296         654   \n",
       "Tattoo You (Super Deluxe)       11.012900        20.050        1008   \n",
       "On Air (Deluxe)                  5.280310        17.024         573   \n",
       "\n",
       "                             release_year  \n",
       "album                                      \n",
       "Honk (Deluxe)                        2019  \n",
       "Some Girls (Deluxe Version)          1978  \n",
       "Voodoo Lounge Uncut (Live)           2018  \n",
       "Tattoo You (Super Deluxe)            2021  \n",
       "On Air (Deluxe)                      2017  "
      ]
     },
     "metadata": {},
     "output_type": "display_data"
    }
   ],
   "source": [
    "display(\n",
    "    albums_pivot.sort_values('popularity', ascending=False).head(),\n",
    "    albums_pivot.sort_values('acousticness', ascending=False).head(),\n",
    "    albums_pivot.sort_values('danceability', ascending=False).head()\n",
    ")"
   ]
  },
  {
   "cell_type": "markdown",
   "id": "f67b3678",
   "metadata": {
    "papermill": {
     "duration": 0.024237,
     "end_time": "2023-02-22T12:42:08.710396",
     "exception": false,
     "start_time": "2023-02-22T12:42:08.686159",
     "status": "completed"
    },
    "tags": []
   },
   "source": [
    "\"Honk (Deluxe)\" most popular album"
   ]
  },
  {
   "cell_type": "markdown",
   "id": "2b1a61a6",
   "metadata": {
    "papermill": {
     "duration": 0.023754,
     "end_time": "2023-02-22T12:42:08.758576",
     "exception": false,
     "start_time": "2023-02-22T12:42:08.734822",
     "status": "completed"
    },
    "tags": []
   },
   "source": [
    "album by decade"
   ]
  },
  {
   "cell_type": "code",
   "execution_count": 101,
   "id": "bb9fc75a",
   "metadata": {
    "execution": {
     "iopub.execute_input": "2023-02-22T12:42:08.816674Z",
     "iopub.status.busy": "2023-02-22T12:42:08.816185Z",
     "iopub.status.idle": "2023-02-22T12:42:08.831777Z",
     "shell.execute_reply": "2023-02-22T12:42:08.830446Z"
    },
    "papermill": {
     "duration": 0.050336,
     "end_time": "2023-02-22T12:42:08.834405",
     "exception": false,
     "start_time": "2023-02-22T12:42:08.784069",
     "status": "completed"
    },
    "tags": []
   },
   "outputs": [
    {
     "data": {
      "text/html": [
       "<div>\n",
       "<style scoped>\n",
       "    .dataframe tbody tr th:only-of-type {\n",
       "        vertical-align: middle;\n",
       "    }\n",
       "\n",
       "    .dataframe tbody tr th {\n",
       "        vertical-align: top;\n",
       "    }\n",
       "\n",
       "    .dataframe thead th {\n",
       "        text-align: right;\n",
       "    }\n",
       "</style>\n",
       "<table border=\"1\" class=\"dataframe\">\n",
       "  <thead>\n",
       "    <tr style=\"text-align: right;\">\n",
       "      <th></th>\n",
       "      <th>release_year</th>\n",
       "      <th>decade</th>\n",
       "    </tr>\n",
       "  </thead>\n",
       "  <tbody>\n",
       "    <tr>\n",
       "      <th>0</th>\n",
       "      <td>2022</td>\n",
       "      <td>2020</td>\n",
       "    </tr>\n",
       "    <tr>\n",
       "      <th>1</th>\n",
       "      <td>2022</td>\n",
       "      <td>2020</td>\n",
       "    </tr>\n",
       "    <tr>\n",
       "      <th>2</th>\n",
       "      <td>2022</td>\n",
       "      <td>2020</td>\n",
       "    </tr>\n",
       "    <tr>\n",
       "      <th>3</th>\n",
       "      <td>2022</td>\n",
       "      <td>2020</td>\n",
       "    </tr>\n",
       "    <tr>\n",
       "      <th>4</th>\n",
       "      <td>2022</td>\n",
       "      <td>2020</td>\n",
       "    </tr>\n",
       "  </tbody>\n",
       "</table>\n",
       "</div>"
      ],
      "text/plain": [
       "   release_year  decade\n",
       "0          2022    2020\n",
       "1          2022    2020\n",
       "2          2022    2020\n",
       "3          2022    2020\n",
       "4          2022    2020"
      ]
     },
     "execution_count": 101,
     "metadata": {},
     "output_type": "execute_result"
    }
   ],
   "source": [
    "ds['decade'] = ds['release_year'] - ds['release_year'] % 10\n",
    "ds[['release_year', 'decade']].head()"
   ]
  },
  {
   "cell_type": "code",
   "execution_count": 102,
   "id": "22c03bb0",
   "metadata": {
    "execution": {
     "iopub.execute_input": "2023-02-22T12:42:08.886602Z",
     "iopub.status.busy": "2023-02-22T12:42:08.886135Z",
     "iopub.status.idle": "2023-02-22T12:42:08.894951Z",
     "shell.execute_reply": "2023-02-22T12:42:08.893731Z"
    },
    "papermill": {
     "duration": 0.038311,
     "end_time": "2023-02-22T12:42:08.897553",
     "exception": false,
     "start_time": "2023-02-22T12:42:08.859242",
     "status": "completed"
    },
    "tags": []
   },
   "outputs": [
    {
     "data": {
      "text/plain": [
       "array([2020, 2010, 2000, 1990, 1980, 1970, 1960])"
      ]
     },
     "execution_count": 102,
     "metadata": {},
     "output_type": "execute_result"
    }
   ],
   "source": [
    "ds['decade'].unique()"
   ]
  },
  {
   "cell_type": "code",
   "execution_count": 103,
   "id": "6002a6ee",
   "metadata": {
    "execution": {
     "iopub.execute_input": "2023-02-22T12:42:08.948524Z",
     "iopub.status.busy": "2023-02-22T12:42:08.948031Z",
     "iopub.status.idle": "2023-02-22T12:42:08.974316Z",
     "shell.execute_reply": "2023-02-22T12:42:08.972751Z"
    },
    "papermill": {
     "duration": 0.055783,
     "end_time": "2023-02-22T12:42:08.978193",
     "exception": false,
     "start_time": "2023-02-22T12:42:08.922410",
     "status": "completed"
    },
    "tags": []
   },
   "outputs": [
    {
     "data": {
      "text/html": [
       "<div>\n",
       "<style scoped>\n",
       "    .dataframe tbody tr th:only-of-type {\n",
       "        vertical-align: middle;\n",
       "    }\n",
       "\n",
       "    .dataframe tbody tr th {\n",
       "        vertical-align: top;\n",
       "    }\n",
       "\n",
       "    .dataframe thead th {\n",
       "        text-align: right;\n",
       "    }\n",
       "</style>\n",
       "<table border=\"1\" class=\"dataframe\">\n",
       "  <thead>\n",
       "    <tr style=\"text-align: right;\">\n",
       "      <th></th>\n",
       "      <th>decade</th>\n",
       "      <th>popularity</th>\n",
       "      <th>danceability</th>\n",
       "      <th>acousticness</th>\n",
       "    </tr>\n",
       "  </thead>\n",
       "  <tbody>\n",
       "    <tr>\n",
       "      <th>0</th>\n",
       "      <td>1960</td>\n",
       "      <td>263.642857</td>\n",
       "      <td>7.285929</td>\n",
       "      <td>3.654048</td>\n",
       "    </tr>\n",
       "    <tr>\n",
       "      <th>1</th>\n",
       "      <td>1970</td>\n",
       "      <td>405.550000</td>\n",
       "      <td>8.161350</td>\n",
       "      <td>5.901932</td>\n",
       "    </tr>\n",
       "    <tr>\n",
       "      <th>2</th>\n",
       "      <td>1980</td>\n",
       "      <td>273.200000</td>\n",
       "      <td>5.882200</td>\n",
       "      <td>1.912273</td>\n",
       "    </tr>\n",
       "    <tr>\n",
       "      <th>3</th>\n",
       "      <td>1990</td>\n",
       "      <td>458.000000</td>\n",
       "      <td>10.002800</td>\n",
       "      <td>4.753726</td>\n",
       "    </tr>\n",
       "    <tr>\n",
       "      <th>4</th>\n",
       "      <td>2000</td>\n",
       "      <td>563.500000</td>\n",
       "      <td>12.462000</td>\n",
       "      <td>4.939600</td>\n",
       "    </tr>\n",
       "  </tbody>\n",
       "</table>\n",
       "</div>"
      ],
      "text/plain": [
       "   decade  popularity  danceability  acousticness\n",
       "0    1960  263.642857      7.285929      3.654048\n",
       "1    1970  405.550000      8.161350      5.901932\n",
       "2    1980  273.200000      5.882200      1.912273\n",
       "3    1990  458.000000     10.002800      4.753726\n",
       "4    2000  563.500000     12.462000      4.939600"
      ]
     },
     "execution_count": 103,
     "metadata": {},
     "output_type": "execute_result"
    }
   ],
   "source": [
    "albums_aggregated = ds.groupby('album').agg(\n",
    "    {'decade': 'max', \n",
    "     'release_year': 'max',\n",
    "     'popularity': 'sum',\n",
    "     'danceability': 'sum',\n",
    "     'acousticness': 'sum'})\n",
    "\n",
    "albums_by_decades = albums_aggregated.groupby('decade', as_index=False)[['popularity', 'danceability', 'acousticness']].mean()\n",
    "albums_by_decades.head()"
   ]
  },
  {
   "cell_type": "code",
   "execution_count": 104,
   "id": "29254856",
   "metadata": {
    "execution": {
     "iopub.execute_input": "2023-02-22T12:42:09.086515Z",
     "iopub.status.busy": "2023-02-22T12:42:09.086068Z",
     "iopub.status.idle": "2023-02-22T12:42:09.371126Z",
     "shell.execute_reply": "2023-02-22T12:42:09.369658Z"
    },
    "papermill": {
     "duration": 0.315955,
     "end_time": "2023-02-22T12:42:09.373997",
     "exception": false,
     "start_time": "2023-02-22T12:42:09.058042",
     "status": "completed"
    },
    "tags": []
   },
   "outputs": [
    {
     "data": {
      "text/plain": [
       "Text(0.5, 1.0, 'Comparison of average albums popularity by decades')"
      ]
     },
     "execution_count": 104,
     "metadata": {},
     "output_type": "execute_result"
    },
    {
     "data": {
      "image/png": "[encoded data removed]",
      "text/plain": [
       "<Figure size 640x480 with 1 Axes>"
      ]
     },
     "metadata": {},
     "output_type": "display_data"
    }
   ],
   "source": [
    "sns.barplot(data=albums_by_decades, x='decade', y='popularity')\n",
    "plt.title('Comparison of average albums popularity by decades')"
   ]
  },
  {
   "cell_type": "code",
   "execution_count": 105,
   "id": "8099fa1b",
   "metadata": {
    "execution": {
     "iopub.execute_input": "2023-02-22T12:42:09.479308Z",
     "iopub.status.busy": "2023-02-22T12:42:09.478113Z",
     "iopub.status.idle": "2023-02-22T12:42:09.492057Z",
     "shell.execute_reply": "2023-02-22T12:42:09.491237Z"
    },
    "papermill": {
     "duration": 0.044055,
     "end_time": "2023-02-22T12:42:09.495009",
     "exception": false,
     "start_time": "2023-02-22T12:42:09.450954",
     "status": "completed"
    },
    "tags": []
   },
   "outputs": [
    {
     "data": {
      "text/html": [
       "<div>\n",
       "<style scoped>\n",
       "    .dataframe tbody tr th:only-of-type {\n",
       "        vertical-align: middle;\n",
       "    }\n",
       "\n",
       "    .dataframe tbody tr th {\n",
       "        vertical-align: top;\n",
       "    }\n",
       "\n",
       "    .dataframe thead th {\n",
       "        text-align: right;\n",
       "    }\n",
       "</style>\n",
       "<table border=\"1\" class=\"dataframe\">\n",
       "  <thead>\n",
       "    <tr style=\"text-align: right;\">\n",
       "      <th></th>\n",
       "      <th>name</th>\n",
       "      <th>live_factor</th>\n",
       "    </tr>\n",
       "  </thead>\n",
       "  <tbody>\n",
       "    <tr>\n",
       "      <th>0</th>\n",
       "      <td>Concert Intro Music - Live</td>\n",
       "      <td>True</td>\n",
       "    </tr>\n",
       "    <tr>\n",
       "      <th>1</th>\n",
       "      <td>Street Fighting Man - Live</td>\n",
       "      <td>True</td>\n",
       "    </tr>\n",
       "    <tr>\n",
       "      <th>2</th>\n",
       "      <td>Start Me Up - Live</td>\n",
       "      <td>True</td>\n",
       "    </tr>\n",
       "    <tr>\n",
       "      <th>3</th>\n",
       "      <td>If You Can't Rock Me - Live</td>\n",
       "      <td>True</td>\n",
       "    </tr>\n",
       "    <tr>\n",
       "      <th>4</th>\n",
       "      <td>Donâ€™t Stop - Live</td>\n",
       "      <td>True</td>\n",
       "    </tr>\n",
       "  </tbody>\n",
       "</table>\n",
       "</div>"
      ],
      "text/plain": [
       "                          name  live_factor\n",
       "0   Concert Intro Music - Live         True\n",
       "1   Street Fighting Man - Live         True\n",
       "2           Start Me Up - Live         True\n",
       "3  If You Can't Rock Me - Live         True\n",
       "4          Donâ€™t Stop - Live         True"
      ]
     },
     "execution_count": 105,
     "metadata": {},
     "output_type": "execute_result"
    }
   ],
   "source": [
    "ds['live_factor'] = ds['name'].apply(lambda x: 'live' in x.lower())\n",
    "ds[['name', 'live_factor']].head()"
   ]
  },
  {
   "cell_type": "code",
   "execution_count": 72,
   "id": "3c817480",
   "metadata": {
    "execution": {
     "iopub.execute_input": "2023-02-22T12:42:09.601149Z",
     "iopub.status.busy": "2023-02-22T12:42:09.600131Z",
     "iopub.status.idle": "2023-02-22T12:42:09.624813Z",
     "shell.execute_reply": "2023-02-22T12:42:09.623337Z"
    },
    "papermill": {
     "duration": 0.054997,
     "end_time": "2023-02-22T12:42:09.627820",
     "exception": false,
     "start_time": "2023-02-22T12:42:09.572823",
     "status": "completed"
    },
    "tags": []
   },
   "outputs": [
    {
     "data": {
      "text/html": [
       "<div>\n",
       "<style scoped>\n",
       "    .dataframe tbody tr th:only-of-type {\n",
       "        vertical-align: middle;\n",
       "    }\n",
       "\n",
       "    .dataframe tbody tr th {\n",
       "        vertical-align: top;\n",
       "    }\n",
       "\n",
       "    .dataframe thead th {\n",
       "        text-align: right;\n",
       "    }\n",
       "</style>\n",
       "<table border=\"1\" class=\"dataframe\">\n",
       "  <thead>\n",
       "    <tr style=\"text-align: right;\">\n",
       "      <th></th>\n",
       "      <th>Unnamed: 0</th>\n",
       "      <th>name</th>\n",
       "      <th>album</th>\n",
       "      <th>release_date</th>\n",
       "      <th>track_number</th>\n",
       "      <th>id</th>\n",
       "      <th>uri</th>\n",
       "      <th>acousticness</th>\n",
       "      <th>danceability</th>\n",
       "      <th>energy</th>\n",
       "      <th>...</th>\n",
       "      <th>loudness</th>\n",
       "      <th>speechiness</th>\n",
       "      <th>tempo</th>\n",
       "      <th>valence</th>\n",
       "      <th>popularity</th>\n",
       "      <th>duration_ms</th>\n",
       "      <th>duration_sec</th>\n",
       "      <th>release_year</th>\n",
       "      <th>decade</th>\n",
       "      <th>live_factor</th>\n",
       "    </tr>\n",
       "  </thead>\n",
       "  <tbody>\n",
       "  </tbody>\n",
       "</table>\n",
       "<p>0 rows × 22 columns</p>\n",
       "</div>"
      ],
      "text/plain": [
       "Empty DataFrame\n",
       "Columns: [Unnamed: 0, name, album, release_date, track_number, id, uri, acousticness, danceability, energy, instrumentalness, liveness, loudness, speechiness, tempo, valence, popularity, duration_ms, duration_sec, release_year, decade, live_factor]\n",
       "Index: []\n",
       "\n",
       "[0 rows x 22 columns]"
      ]
     },
     "execution_count": 72,
     "metadata": {},
     "output_type": "execute_result"
    }
   ],
   "source": [
    "ds[(ds['live_factor'] == False) & ('live' in ds['album'].str.lower())]"
   ]
  },
  {
   "cell_type": "code",
   "execution_count": 106,
   "id": "9831b475",
   "metadata": {
    "execution": {
     "iopub.execute_input": "2023-02-22T12:42:09.841677Z",
     "iopub.status.busy": "2023-02-22T12:42:09.841215Z",
     "iopub.status.idle": "2023-02-22T12:42:09.872134Z",
     "shell.execute_reply": "2023-02-22T12:42:09.870603Z"
    },
    "papermill": {
     "duration": 0.061331,
     "end_time": "2023-02-22T12:42:09.875135",
     "exception": false,
     "start_time": "2023-02-22T12:42:09.813804",
     "status": "completed"
    },
    "tags": []
   },
   "outputs": [
    {
     "data": {
      "text/html": [
       "<div>\n",
       "<style scoped>\n",
       "    .dataframe tbody tr th:only-of-type {\n",
       "        vertical-align: middle;\n",
       "    }\n",
       "\n",
       "    .dataframe tbody tr th {\n",
       "        vertical-align: top;\n",
       "    }\n",
       "\n",
       "    .dataframe thead th {\n",
       "        text-align: right;\n",
       "    }\n",
       "</style>\n",
       "<table border=\"1\" class=\"dataframe\">\n",
       "  <thead>\n",
       "    <tr style=\"text-align: right;\">\n",
       "      <th></th>\n",
       "      <th>Unnamed: 0</th>\n",
       "      <th>name</th>\n",
       "      <th>album</th>\n",
       "      <th>release_date</th>\n",
       "      <th>track_number</th>\n",
       "      <th>id</th>\n",
       "      <th>uri</th>\n",
       "      <th>acousticness</th>\n",
       "      <th>danceability</th>\n",
       "      <th>energy</th>\n",
       "      <th>...</th>\n",
       "      <th>loudness</th>\n",
       "      <th>speechiness</th>\n",
       "      <th>tempo</th>\n",
       "      <th>valence</th>\n",
       "      <th>popularity</th>\n",
       "      <th>duration_ms</th>\n",
       "      <th>duration_sec</th>\n",
       "      <th>release_year</th>\n",
       "      <th>decade</th>\n",
       "      <th>live_factor</th>\n",
       "    </tr>\n",
       "  </thead>\n",
       "  <tbody>\n",
       "    <tr>\n",
       "      <th>0</th>\n",
       "      <td>0</td>\n",
       "      <td>Concert Intro Music - Live</td>\n",
       "      <td>Licked Live In NYC</td>\n",
       "      <td>2022-06-10</td>\n",
       "      <td>1</td>\n",
       "      <td>2IEkywLJ4ykbhi1yRQvmsT</td>\n",
       "      <td>spotify:track:2IEkywLJ4ykbhi1yRQvmsT</td>\n",
       "      <td>0.0824</td>\n",
       "      <td>0.463</td>\n",
       "      <td>0.993</td>\n",
       "      <td>...</td>\n",
       "      <td>-12.913</td>\n",
       "      <td>0.1100</td>\n",
       "      <td>118.001</td>\n",
       "      <td>0.0302</td>\n",
       "      <td>33</td>\n",
       "      <td>48640</td>\n",
       "      <td>48.640</td>\n",
       "      <td>2022</td>\n",
       "      <td>2020</td>\n",
       "      <td>True</td>\n",
       "    </tr>\n",
       "    <tr>\n",
       "      <th>1</th>\n",
       "      <td>1</td>\n",
       "      <td>Street Fighting Man - Live</td>\n",
       "      <td>Licked Live In NYC</td>\n",
       "      <td>2022-06-10</td>\n",
       "      <td>2</td>\n",
       "      <td>6GVgVJBKkGJoRfarYRvGTU</td>\n",
       "      <td>spotify:track:6GVgVJBKkGJoRfarYRvGTU</td>\n",
       "      <td>0.4370</td>\n",
       "      <td>0.326</td>\n",
       "      <td>0.965</td>\n",
       "      <td>...</td>\n",
       "      <td>-4.803</td>\n",
       "      <td>0.0759</td>\n",
       "      <td>131.455</td>\n",
       "      <td>0.3180</td>\n",
       "      <td>34</td>\n",
       "      <td>253173</td>\n",
       "      <td>253.173</td>\n",
       "      <td>2022</td>\n",
       "      <td>2020</td>\n",
       "      <td>True</td>\n",
       "    </tr>\n",
       "    <tr>\n",
       "      <th>2</th>\n",
       "      <td>2</td>\n",
       "      <td>Start Me Up - Live</td>\n",
       "      <td>Licked Live In NYC</td>\n",
       "      <td>2022-06-10</td>\n",
       "      <td>3</td>\n",
       "      <td>1Lu761pZ0dBTGpzxaQoZNW</td>\n",
       "      <td>spotify:track:1Lu761pZ0dBTGpzxaQoZNW</td>\n",
       "      <td>0.4160</td>\n",
       "      <td>0.386</td>\n",
       "      <td>0.969</td>\n",
       "      <td>...</td>\n",
       "      <td>-4.936</td>\n",
       "      <td>0.1150</td>\n",
       "      <td>130.066</td>\n",
       "      <td>0.3130</td>\n",
       "      <td>34</td>\n",
       "      <td>263160</td>\n",
       "      <td>263.160</td>\n",
       "      <td>2022</td>\n",
       "      <td>2020</td>\n",
       "      <td>True</td>\n",
       "    </tr>\n",
       "    <tr>\n",
       "      <th>3</th>\n",
       "      <td>3</td>\n",
       "      <td>If You Can't Rock Me - Live</td>\n",
       "      <td>Licked Live In NYC</td>\n",
       "      <td>2022-06-10</td>\n",
       "      <td>4</td>\n",
       "      <td>1agTQzOTUnGNggyckEqiDH</td>\n",
       "      <td>spotify:track:1agTQzOTUnGNggyckEqiDH</td>\n",
       "      <td>0.5670</td>\n",
       "      <td>0.369</td>\n",
       "      <td>0.985</td>\n",
       "      <td>...</td>\n",
       "      <td>-5.535</td>\n",
       "      <td>0.1930</td>\n",
       "      <td>132.994</td>\n",
       "      <td>0.1470</td>\n",
       "      <td>32</td>\n",
       "      <td>305880</td>\n",
       "      <td>305.880</td>\n",
       "      <td>2022</td>\n",
       "      <td>2020</td>\n",
       "      <td>True</td>\n",
       "    </tr>\n",
       "    <tr>\n",
       "      <th>4</th>\n",
       "      <td>4</td>\n",
       "      <td>Donâ€™t Stop - Live</td>\n",
       "      <td>Licked Live In NYC</td>\n",
       "      <td>2022-06-10</td>\n",
       "      <td>5</td>\n",
       "      <td>7piGJR8YndQBQWVXv6KtQw</td>\n",
       "      <td>spotify:track:7piGJR8YndQBQWVXv6KtQw</td>\n",
       "      <td>0.4000</td>\n",
       "      <td>0.303</td>\n",
       "      <td>0.969</td>\n",
       "      <td>...</td>\n",
       "      <td>-5.098</td>\n",
       "      <td>0.0930</td>\n",
       "      <td>130.533</td>\n",
       "      <td>0.2060</td>\n",
       "      <td>32</td>\n",
       "      <td>305106</td>\n",
       "      <td>305.106</td>\n",
       "      <td>2022</td>\n",
       "      <td>2020</td>\n",
       "      <td>True</td>\n",
       "    </tr>\n",
       "  </tbody>\n",
       "</table>\n",
       "<p>5 rows × 22 columns</p>\n",
       "</div>"
      ],
      "text/plain": [
       "   Unnamed: 0                         name               album release_date   \n",
       "0           0   Concert Intro Music - Live  Licked Live In NYC   2022-06-10  \\\n",
       "1           1   Street Fighting Man - Live  Licked Live In NYC   2022-06-10   \n",
       "2           2           Start Me Up - Live  Licked Live In NYC   2022-06-10   \n",
       "3           3  If You Can't Rock Me - Live  Licked Live In NYC   2022-06-10   \n",
       "4           4          Donâ€™t Stop - Live  Licked Live In NYC   2022-06-10   \n",
       "\n",
       "   track_number                      id                                   uri   \n",
       "0             1  2IEkywLJ4ykbhi1yRQvmsT  spotify:track:2IEkywLJ4ykbhi1yRQvmsT  \\\n",
       "1             2  6GVgVJBKkGJoRfarYRvGTU  spotify:track:6GVgVJBKkGJoRfarYRvGTU   \n",
       "2             3  1Lu761pZ0dBTGpzxaQoZNW  spotify:track:1Lu761pZ0dBTGpzxaQoZNW   \n",
       "3             4  1agTQzOTUnGNggyckEqiDH  spotify:track:1agTQzOTUnGNggyckEqiDH   \n",
       "4             5  7piGJR8YndQBQWVXv6KtQw  spotify:track:7piGJR8YndQBQWVXv6KtQw   \n",
       "\n",
       "   acousticness  danceability  energy  ...  loudness  speechiness    tempo   \n",
       "0        0.0824         0.463   0.993  ...   -12.913       0.1100  118.001  \\\n",
       "1        0.4370         0.326   0.965  ...    -4.803       0.0759  131.455   \n",
       "2        0.4160         0.386   0.969  ...    -4.936       0.1150  130.066   \n",
       "3        0.5670         0.369   0.985  ...    -5.535       0.1930  132.994   \n",
       "4        0.4000         0.303   0.969  ...    -5.098       0.0930  130.533   \n",
       "\n",
       "   valence  popularity  duration_ms  duration_sec  release_year  decade   \n",
       "0   0.0302          33        48640        48.640          2022    2020  \\\n",
       "1   0.3180          34       253173       253.173          2022    2020   \n",
       "2   0.3130          34       263160       263.160          2022    2020   \n",
       "3   0.1470          32       305880       305.880          2022    2020   \n",
       "4   0.2060          32       305106       305.106          2022    2020   \n",
       "\n",
       "   live_factor  \n",
       "0         True  \n",
       "1         True  \n",
       "2         True  \n",
       "3         True  \n",
       "4         True  \n",
       "\n",
       "[5 rows x 22 columns]"
      ]
     },
     "execution_count": 106,
     "metadata": {},
     "output_type": "execute_result"
    }
   ],
   "source": [
    "ds.head()"
   ]
  },
  {
   "cell_type": "code",
   "execution_count": 107,
   "id": "1af7fab2",
   "metadata": {
    "execution": {
     "iopub.execute_input": "2023-02-22T12:42:09.930201Z",
     "iopub.status.busy": "2023-02-22T12:42:09.929502Z",
     "iopub.status.idle": "2023-02-22T12:42:09.936564Z",
     "shell.execute_reply": "2023-02-22T12:42:09.935542Z"
    },
    "papermill": {
     "duration": 0.037912,
     "end_time": "2023-02-22T12:42:09.939414",
     "exception": false,
     "start_time": "2023-02-22T12:42:09.901502",
     "status": "completed"
    },
    "tags": []
   },
   "outputs": [],
   "source": [
    "studio = ds[ds['live_factor'] == False]\n",
    "lives = ds[ds['live_factor'] == True]"
   ]
  },
  {
   "cell_type": "code",
   "execution_count": 108,
   "id": "957689fd",
   "metadata": {
    "execution": {
     "iopub.execute_input": "2023-02-22T12:42:09.994725Z",
     "iopub.status.busy": "2023-02-22T12:42:09.993992Z",
     "iopub.status.idle": "2023-02-22T12:42:10.003282Z",
     "shell.execute_reply": "2023-02-22T12:42:10.002149Z"
    },
    "papermill": {
     "duration": 0.040272,
     "end_time": "2023-02-22T12:42:10.006507",
     "exception": false,
     "start_time": "2023-02-22T12:42:09.966235",
     "status": "completed"
    },
    "tags": []
   },
   "outputs": [
    {
     "data": {
      "text/plain": [
       "62"
      ]
     },
     "execution_count": 108,
     "metadata": {},
     "output_type": "execute_result"
    }
   ],
   "source": [
    "len(studio.groupby('album')['danceability'].sum())"
   ]
  },
  {
   "cell_type": "code",
   "execution_count": 109,
   "id": "505e62e0",
   "metadata": {
    "execution": {
     "iopub.execute_input": "2023-02-22T12:42:10.062512Z",
     "iopub.status.busy": "2023-02-22T12:42:10.062029Z",
     "iopub.status.idle": "2023-02-22T12:42:10.072844Z",
     "shell.execute_reply": "2023-02-22T12:42:10.071433Z"
    },
    "papermill": {
     "duration": 0.041584,
     "end_time": "2023-02-22T12:42:10.075470",
     "exception": false,
     "start_time": "2023-02-22T12:42:10.033886",
     "status": "completed"
    },
    "tags": []
   },
   "outputs": [
    {
     "data": {
      "text/plain": [
       "40"
      ]
     },
     "execution_count": 109,
     "metadata": {},
     "output_type": "execute_result"
    }
   ],
   "source": [
    "len(lives.groupby('album')['danceability'].sum())"
   ]
  },
  {
   "cell_type": "code",
   "execution_count": 110,
   "id": "cad5b6f6",
   "metadata": {
    "execution": {
     "iopub.execute_input": "2023-02-22T12:42:10.185545Z",
     "iopub.status.busy": "2023-02-22T12:42:10.184706Z",
     "iopub.status.idle": "2023-02-22T12:42:10.192792Z",
     "shell.execute_reply": "2023-02-22T12:42:10.191777Z"
    },
    "papermill": {
     "duration": 0.038812,
     "end_time": "2023-02-22T12:42:10.195433",
     "exception": false,
     "start_time": "2023-02-22T12:42:10.156621",
     "status": "completed"
    },
    "tags": []
   },
   "outputs": [],
   "source": [
    "s_1 = studio.groupby('album')['danceability'].sum()\n",
    "s_2 = lives.groupby('album')['danceability'].sum()"
   ]
  },
  {
   "cell_type": "code",
   "execution_count": 111,
   "id": "e40a5766",
   "metadata": {
    "execution": {
     "iopub.execute_input": "2023-02-22T12:42:10.249666Z",
     "iopub.status.busy": "2023-02-22T12:42:10.248853Z",
     "iopub.status.idle": "2023-02-22T12:42:10.642525Z",
     "shell.execute_reply": "2023-02-22T12:42:10.641205Z"
    },
    "papermill": {
     "duration": 0.423989,
     "end_time": "2023-02-22T12:42:10.645221",
     "exception": false,
     "start_time": "2023-02-22T12:42:10.221232",
     "status": "completed"
    },
    "tags": []
   },
   "outputs": [
    {
     "data": {
      "text/plain": [
       "Text(0.5, 1.0, 'live albums')"
      ]
     },
     "execution_count": 111,
     "metadata": {},
     "output_type": "execute_result"
    },
    {
     "data": {
      "image/png": "[encoded data removed]",
      "text/plain": [
       "<Figure size 1000x400 with 2 Axes>"
      ]
     },
     "metadata": {},
     "output_type": "display_data"
    }
   ],
   "source": [
    "fig, ax = plt.subplots(figsize=(10,4), nrows=1, ncols=2)\n",
    "ax[0].hist(s_1)\n",
    "ax[1].hist(s_2)\n",
    "ax[0].set_title('studio albums')\n",
    "ax[1].set_title('live albums')"
   ]
  },
  {
   "cell_type": "markdown",
   "id": "43de401b",
   "metadata": {
    "papermill": {
     "duration": 0.027154,
     "end_time": "2023-02-22T12:42:10.700908",
     "exception": false,
     "start_time": "2023-02-22T12:42:10.673754",
     "status": "completed"
    },
    "tags": []
   },
   "source": [
    "small series = t-test"
   ]
  },
  {
   "cell_type": "code",
   "execution_count": 112,
   "id": "712c2ffb",
   "metadata": {
    "execution": {
     "iopub.execute_input": "2023-02-22T12:42:10.757396Z",
     "iopub.status.busy": "2023-02-22T12:42:10.756931Z",
     "iopub.status.idle": "2023-02-22T12:42:11.567178Z",
     "shell.execute_reply": "2023-02-22T12:42:11.565788Z"
    },
    "papermill": {
     "duration": 0.842134,
     "end_time": "2023-02-22T12:42:11.570191",
     "exception": false,
     "start_time": "2023-02-22T12:42:10.728057",
     "status": "completed"
    },
    "tags": []
   },
   "outputs": [
    {
     "data": {
      "text/plain": [
       "Text(0.5, 1.0, 'live danceability sample means')"
      ]
     },
     "execution_count": 112,
     "metadata": {},
     "output_type": "execute_result"
    },
    {
     "data": {
      "image/png": "[encoded data removed]",
      "text/plain": [
       "<Figure size 1000x400 with 2 Axes>"
      ]
     },
     "metadata": {},
     "output_type": "display_data"
    }
   ],
   "source": [
    "sr_1 = pd.Series([s_1.sample(n=10, replace=True).mean() for _ in range(1000)])\n",
    "sr_2 = pd.Series([s_2.sample(n=10, replace=True).mean() for _ in range(1000)])\n",
    "fig, ax = plt.subplots(figsize=(10,4), nrows=1, ncols=2)\n",
    "ax[0].hist(sr_1)\n",
    "ax[1].hist(sr_2)\n",
    "ax[0].set_title('studio danceability sample means')\n",
    "ax[1].set_title('live danceability sample means')"
   ]
  },
  {
   "cell_type": "markdown",
   "id": "c9b0366a",
   "metadata": {
    "papermill": {
     "duration": 0.029261,
     "end_time": "2023-02-22T12:42:11.628515",
     "exception": false,
     "start_time": "2023-02-22T12:42:11.599254",
     "status": "completed"
    },
    "tags": []
   },
   "source": [
    " both distributions have a lot of non-uniformity (see the previous figure). will use the Mann-Whitney U-test"
   ]
  },
  {
   "cell_type": "code",
   "execution_count": 113,
   "id": "493e22e0",
   "metadata": {
    "execution": {
     "iopub.execute_input": "2023-02-22T12:42:11.689773Z",
     "iopub.status.busy": "2023-02-22T12:42:11.689277Z",
     "iopub.status.idle": "2023-02-22T12:42:11.700319Z",
     "shell.execute_reply": "2023-02-22T12:42:11.698722Z"
    },
    "papermill": {
     "duration": 0.044779,
     "end_time": "2023-02-22T12:42:11.703268",
     "exception": false,
     "start_time": "2023-02-22T12:42:11.658489",
     "status": "completed"
    },
    "tags": []
   },
   "outputs": [
    {
     "data": {
      "text/plain": [
       "MannwhitneyuResult(statistic=1093.0, pvalue=0.3153214389596519)"
      ]
     },
     "execution_count": 113,
     "metadata": {},
     "output_type": "execute_result"
    }
   ],
   "source": [
    "st.mannwhitneyu(s_2, s_1)"
   ]
  },
  {
   "cell_type": "code",
   "execution_count": 114,
   "id": "be2958b6",
   "metadata": {
    "execution": {
     "iopub.execute_input": "2023-02-22T12:42:11.872786Z",
     "iopub.status.busy": "2023-02-22T12:42:11.872310Z",
     "iopub.status.idle": "2023-02-22T12:42:12.324073Z",
     "shell.execute_reply": "2023-02-22T12:42:12.322485Z"
    },
    "papermill": {
     "duration": 0.484548,
     "end_time": "2023-02-22T12:42:12.327320",
     "exception": false,
     "start_time": "2023-02-22T12:42:11.842772",
     "status": "completed"
    },
    "tags": []
   },
   "outputs": [
    {
     "data": {
      "text/plain": [
       "Text(0.5, 1.0, 'live albums loudness')"
      ]
     },
     "execution_count": 114,
     "metadata": {},
     "output_type": "execute_result"
    },
    {
     "data": {
      "image/png": "[encoded data removed]",
      "text/plain": [
       "<Figure size 1000x400 with 2 Axes>"
      ]
     },
     "metadata": {},
     "output_type": "display_data"
    }
   ],
   "source": [
    "s_1 = studio.groupby('album')['loudness'].sum()\n",
    "s_2 = lives.groupby('album')['loudness'].sum()\n",
    "fig, ax = plt.subplots(figsize=(10,4), nrows=1, ncols=2)\n",
    "ax[0].hist(s_1)\n",
    "ax[1].hist(s_2)\n",
    "ax[0].set_title('studio albums loudness')\n",
    "ax[1].set_title('live albums loudness')"
   ]
  },
  {
   "cell_type": "code",
   "execution_count": 115,
   "id": "a1160a40",
   "metadata": {
    "execution": {
     "iopub.execute_input": "2023-02-22T12:42:12.389691Z",
     "iopub.status.busy": "2023-02-22T12:42:12.389138Z",
     "iopub.status.idle": "2023-02-22T12:42:12.399964Z",
     "shell.execute_reply": "2023-02-22T12:42:12.398658Z"
    },
    "papermill": {
     "duration": 0.045482,
     "end_time": "2023-02-22T12:42:12.402796",
     "exception": false,
     "start_time": "2023-02-22T12:42:12.357314",
     "status": "completed"
    },
    "tags": []
   },
   "outputs": [
    {
     "data": {
      "text/plain": [
       "MannwhitneyuResult(statistic=1299.0, pvalue=0.6884480683999278)"
      ]
     },
     "execution_count": 115,
     "metadata": {},
     "output_type": "execute_result"
    }
   ],
   "source": [
    "st.mannwhitneyu(s_2, s_1)"
   ]
  },
  {
   "cell_type": "code",
   "execution_count": 116,
   "id": "23caca57",
   "metadata": {
    "execution": {
     "iopub.execute_input": "2023-02-22T12:42:12.591241Z",
     "iopub.status.busy": "2023-02-22T12:42:12.590762Z",
     "iopub.status.idle": "2023-02-22T12:42:12.988214Z",
     "shell.execute_reply": "2023-02-22T12:42:12.986962Z"
    },
    "papermill": {
     "duration": 0.43303,
     "end_time": "2023-02-22T12:42:12.990983",
     "exception": false,
     "start_time": "2023-02-22T12:42:12.557953",
     "status": "completed"
    },
    "tags": []
   },
   "outputs": [
    {
     "data": {
      "text/plain": [
       "Text(0.5, 1.0, 'live albums energy')"
      ]
     },
     "execution_count": 116,
     "metadata": {},
     "output_type": "execute_result"
    },
    {
     "data": {
      "image/png": "[encoded data removed]",
      "text/plain": [
       "<Figure size 1000x400 with 2 Axes>"
      ]
     },
     "metadata": {},
     "output_type": "display_data"
    }
   ],
   "source": [
    "s_1 = studio.groupby('album')['energy'].sum()\n",
    "s_2 = lives.groupby('album')['energy'].sum()\n",
    "fig, ax = plt.subplots(figsize=(10,4), nrows=1, ncols=2)\n",
    "ax[0].hist(s_1)\n",
    "ax[1].hist(s_2)\n",
    "ax[0].set_title('studio albums energy')\n",
    "ax[1].set_title('live albums energy')"
   ]
  },
  {
   "cell_type": "code",
   "execution_count": 117,
   "id": "aa0dc2ff",
   "metadata": {
    "execution": {
     "iopub.execute_input": "2023-02-22T12:42:13.053418Z",
     "iopub.status.busy": "2023-02-22T12:42:13.052760Z",
     "iopub.status.idle": "2023-02-22T12:42:13.063051Z",
     "shell.execute_reply": "2023-02-22T12:42:13.061497Z"
    },
    "papermill": {
     "duration": 0.044547,
     "end_time": "2023-02-22T12:42:13.065535",
     "exception": false,
     "start_time": "2023-02-22T12:42:13.020988",
     "status": "completed"
    },
    "tags": []
   },
   "outputs": [
    {
     "data": {
      "text/plain": [
       "MannwhitneyuResult(statistic=1707.0, pvalue=0.0013866513671259002)"
      ]
     },
     "execution_count": 117,
     "metadata": {},
     "output_type": "execute_result"
    }
   ],
   "source": [
    "st.mannwhitneyu(s_2, s_1)"
   ]
  },
  {
   "cell_type": "markdown",
   "id": "06cc0f0b",
   "metadata": {
    "papermill": {
     "duration": 0.029672,
     "end_time": "2023-02-22T12:42:13.185204",
     "exception": false,
     "start_time": "2023-02-22T12:42:13.155532",
     "status": "completed"
    },
    "tags": []
   },
   "source": [
    "one-tailed test for significance"
   ]
  },
  {
   "cell_type": "code",
   "execution_count": 118,
   "id": "17a63264",
   "metadata": {
    "execution": {
     "iopub.execute_input": "2023-02-22T12:42:13.248830Z",
     "iopub.status.busy": "2023-02-22T12:42:13.247847Z",
     "iopub.status.idle": "2023-02-22T12:42:13.257504Z",
     "shell.execute_reply": "2023-02-22T12:42:13.256235Z"
    },
    "papermill": {
     "duration": 0.043503,
     "end_time": "2023-02-22T12:42:13.260384",
     "exception": false,
     "start_time": "2023-02-22T12:42:13.216881",
     "status": "completed"
    },
    "tags": []
   },
   "outputs": [
    {
     "data": {
      "text/plain": [
       "MannwhitneyuResult(statistic=1707.0, pvalue=0.0006933256835629501)"
      ]
     },
     "execution_count": 118,
     "metadata": {},
     "output_type": "execute_result"
    }
   ],
   "source": [
    "st.mannwhitneyu(s_2, s_1, alternative='greater')"
   ]
  },
  {
   "cell_type": "markdown",
   "id": "d60d747e",
   "metadata": {
    "papermill": {
     "duration": 0.03261,
     "end_time": "2023-02-22T12:42:13.386935",
     "exception": false,
     "start_time": "2023-02-22T12:42:13.354325",
     "status": "completed"
    },
    "tags": []
   },
   "source": [
    "In Conclusion:\n",
    "Their fame came in two waves essentially, of their initial outbreak into music, and a second wave when they were 'rediscovered' by the next generation of music lovers.\n"
   ]
  }
 ],
 "metadata": {
  "kernelspec": {
   "display_name": "Python 3",
   "language": "python",
   "name": "python3"
  },
  "language_info": {
   "codemirror_mode": {
    "name": "ipython",
    "version": 3
   },
   "file_extension": ".py",
   "mimetype": "text/x-python",
   "name": "python",
   "nbconvert_exporter": "python",
   "pygments_lexer": "ipython3",
   "version": "3.10.6"
  },
  "papermill": {
   "default_parameters": {},
   "duration": 20.976314,
   "end_time": "2023-02-22T12:42:14.506157",
   "environment_variables": {},
   "exception": null,
   "input_path": "__notebook__.ipynb",
   "output_path": "__notebook__.ipynb",
   "parameters": {},
   "start_time": "2023-02-22T12:41:53.529843",
   "version": "2.3.4"
  }
 },
 "nbformat": 4,
 "nbformat_minor": 5
}
